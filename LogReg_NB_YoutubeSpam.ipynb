{
 "cells": [
  {
   "cell_type": "markdown",
   "id": "cb345cd1",
   "metadata": {},
   "source": [
    "# Youtube Spam Filtering using Logistic Regression and Naiive Bayes Classifiers"
   ]
  },
  {
   "cell_type": "code",
   "execution_count": 217,
   "id": "1c56c339",
   "metadata": {},
   "outputs": [],
   "source": [
    "import pandas as pd\n",
    "import numpy as np\n",
    "from numpy import mean, std\n",
    "import matplotlib.pyplot as plt\n",
    "import seaborn as sns\n",
    "from sklearn.linear_model import LinearRegression\n",
    "from sklearn.neighbors import NearestNeighbors, KNeighborsClassifier\n",
    "import statsmodels.formula.api as smf\n",
    "import statsmodels.api as sm\n",
    "from sklearn.preprocessing import PolynomialFeatures\n",
    "from sklearn.neighbors import KNeighborsRegressor\n",
    "from sklearn import preprocessing\n",
    "from sklearn.model_selection import train_test_split\n",
    "from sklearn.metrics import precision_score, accuracy_score, confusion_matrix, mean_squared_error, roc_curve\n",
    "from sklearn.metrics import precision_recall_fscore_support, roc_auc_score, fbeta_score\n",
    "import math\n",
    "from sklearn.linear_model import LogisticRegression\n",
    "from sklearn.feature_selection import chi2\n",
    "from sklearn.preprocessing import LabelEncoder\n",
    "from sklearn.naive_bayes import GaussianNB, MultinomialNB\n",
    "from sklearn.utils import resample\n",
    "from sklearn.feature_extraction.text import TfidfVectorizer\n",
    "from sklearn.feature_extraction.text import CountVectorizer\n",
    "from sklearn.pipeline import Pipeline\n",
    "from sklearn import svm\n",
    "from sklearn.feature_extraction.text import CountVectorizer\n",
    "from sklearn.feature_extraction.text import TfidfTransformer\n",
    "from sklearn.model_selection import KFold\n",
    "from sklearn.model_selection import cross_val_score"
   ]
  },
  {
   "cell_type": "markdown",
   "id": "9df4eddd",
   "metadata": {},
   "source": [
    "Download the YouTube Spam Collection data set from https://archive.ics.\n",
    "uci.edu/ml/datasets/YouTube+Spam+Collection\n",
    "."
   ]
  },
  {
   "cell_type": "code",
   "execution_count": 218,
   "id": "cdce8377",
   "metadata": {},
   "outputs": [
    {
     "data": {
      "text/html": [
       "<div>\n",
       "<style scoped>\n",
       "    .dataframe tbody tr th:only-of-type {\n",
       "        vertical-align: middle;\n",
       "    }\n",
       "\n",
       "    .dataframe tbody tr th {\n",
       "        vertical-align: top;\n",
       "    }\n",
       "\n",
       "    .dataframe thead th {\n",
       "        text-align: right;\n",
       "    }\n",
       "</style>\n",
       "<table border=\"1\" class=\"dataframe\">\n",
       "  <thead>\n",
       "    <tr style=\"text-align: right;\">\n",
       "      <th></th>\n",
       "      <th>COMMENT_ID</th>\n",
       "      <th>AUTHOR</th>\n",
       "      <th>DATE</th>\n",
       "      <th>CONTENT</th>\n",
       "      <th>CLASS</th>\n",
       "    </tr>\n",
       "  </thead>\n",
       "  <tbody>\n",
       "    <tr>\n",
       "      <th>0</th>\n",
       "      <td>z12rwfnyyrbsefonb232i5ehdxzkjzjs2</td>\n",
       "      <td>Lisa Wellas</td>\n",
       "      <td>NaN</td>\n",
       "      <td>+447935454150 lovely girl talk to me xxx﻿</td>\n",
       "      <td>1</td>\n",
       "    </tr>\n",
       "    <tr>\n",
       "      <th>1</th>\n",
       "      <td>z130wpnwwnyuetxcn23xf5k5ynmkdpjrj04</td>\n",
       "      <td>jason graham</td>\n",
       "      <td>2015-05-29T02:26:10.652000</td>\n",
       "      <td>I always end up coming back to this song&lt;br /&gt;﻿</td>\n",
       "      <td>0</td>\n",
       "    </tr>\n",
       "    <tr>\n",
       "      <th>2</th>\n",
       "      <td>z13vsfqirtavjvu0t22ezrgzyorwxhpf3</td>\n",
       "      <td>Ajkal Khan</td>\n",
       "      <td>NaN</td>\n",
       "      <td>my sister just received over 6,500 new &lt;a rel=...</td>\n",
       "      <td>1</td>\n",
       "    </tr>\n",
       "    <tr>\n",
       "      <th>3</th>\n",
       "      <td>z12wjzc4eprnvja4304cgbbizuved35wxcs</td>\n",
       "      <td>Dakota Taylor</td>\n",
       "      <td>2015-05-29T02:13:07.810000</td>\n",
       "      <td>Cool﻿</td>\n",
       "      <td>0</td>\n",
       "    </tr>\n",
       "    <tr>\n",
       "      <th>4</th>\n",
       "      <td>z13xjfr42z3uxdz2223gx5rrzs3dt5hna</td>\n",
       "      <td>Jihad Naser</td>\n",
       "      <td>NaN</td>\n",
       "      <td>Hello I&amp;#39;am from Palastine﻿</td>\n",
       "      <td>1</td>\n",
       "    </tr>\n",
       "    <tr>\n",
       "      <th>...</th>\n",
       "      <td>...</td>\n",
       "      <td>...</td>\n",
       "      <td>...</td>\n",
       "      <td>...</td>\n",
       "      <td>...</td>\n",
       "    </tr>\n",
       "    <tr>\n",
       "      <th>443</th>\n",
       "      <td>LneaDw26bFu3RCmyrWyP9S6wh1h9dBv3X95g1HzKAb4</td>\n",
       "      <td>Dany PK</td>\n",
       "      <td>NaN</td>\n",
       "      <td>SUBSCRIBE TO MY CHANNEL X PLEASE!. SPARE</td>\n",
       "      <td>1</td>\n",
       "    </tr>\n",
       "    <tr>\n",
       "      <th>444</th>\n",
       "      <td>LneaDw26bFsD65dtIvAEObWYIYnFTqQDKBek_Ypz3J8</td>\n",
       "      <td>SmexyFriedChicken</td>\n",
       "      <td>NaN</td>\n",
       "      <td>Check out my videos guy! :) Hope you guys had ...</td>\n",
       "      <td>1</td>\n",
       "    </tr>\n",
       "    <tr>\n",
       "      <th>445</th>\n",
       "      <td>LneaDw26bFuvs-8oWkLpAFa6g3QHpWD8k7sbbMP3Bg8</td>\n",
       "      <td>The Guy That's Done Everything</td>\n",
       "      <td>NaN</td>\n",
       "      <td>3 yrs ago I had a health scare but thankfully ...</td>\n",
       "      <td>1</td>\n",
       "    </tr>\n",
       "    <tr>\n",
       "      <th>446</th>\n",
       "      <td>z12hfp2wmyuqztkw504cgblyxtbsxjuzeow0k</td>\n",
       "      <td>Jesse Pinkman</td>\n",
       "      <td>2015-05-06T11:42:44.601000</td>\n",
       "      <td>Rihanna looks so beautiful with red hair ;)﻿</td>\n",
       "      <td>0</td>\n",
       "    </tr>\n",
       "    <tr>\n",
       "      <th>447</th>\n",
       "      <td>z13tsbc5vvn0hdozz04chjt51lq1cvris0k</td>\n",
       "      <td>Gaming Gaming</td>\n",
       "      <td>2015-05-06T10:56:35.972000</td>\n",
       "      <td>857.482.940 views AWESOME !!!!!!!!!!!!!!!!!!!!...</td>\n",
       "      <td>0</td>\n",
       "    </tr>\n",
       "  </tbody>\n",
       "</table>\n",
       "<p>448 rows × 5 columns</p>\n",
       "</div>"
      ],
      "text/plain": [
       "                                      COMMENT_ID  \\\n",
       "0              z12rwfnyyrbsefonb232i5ehdxzkjzjs2   \n",
       "1            z130wpnwwnyuetxcn23xf5k5ynmkdpjrj04   \n",
       "2              z13vsfqirtavjvu0t22ezrgzyorwxhpf3   \n",
       "3            z12wjzc4eprnvja4304cgbbizuved35wxcs   \n",
       "4              z13xjfr42z3uxdz2223gx5rrzs3dt5hna   \n",
       "..                                           ...   \n",
       "443  LneaDw26bFu3RCmyrWyP9S6wh1h9dBv3X95g1HzKAb4   \n",
       "444  LneaDw26bFsD65dtIvAEObWYIYnFTqQDKBek_Ypz3J8   \n",
       "445  LneaDw26bFuvs-8oWkLpAFa6g3QHpWD8k7sbbMP3Bg8   \n",
       "446        z12hfp2wmyuqztkw504cgblyxtbsxjuzeow0k   \n",
       "447          z13tsbc5vvn0hdozz04chjt51lq1cvris0k   \n",
       "\n",
       "                             AUTHOR                        DATE  \\\n",
       "0                       Lisa Wellas                         NaN   \n",
       "1                      jason graham  2015-05-29T02:26:10.652000   \n",
       "2                        Ajkal Khan                         NaN   \n",
       "3                     Dakota Taylor  2015-05-29T02:13:07.810000   \n",
       "4                       Jihad Naser                         NaN   \n",
       "..                              ...                         ...   \n",
       "443                         Dany PK                         NaN   \n",
       "444               SmexyFriedChicken                         NaN   \n",
       "445  The Guy That's Done Everything                         NaN   \n",
       "446                   Jesse Pinkman  2015-05-06T11:42:44.601000   \n",
       "447                   Gaming Gaming  2015-05-06T10:56:35.972000   \n",
       "\n",
       "                                               CONTENT  CLASS  \n",
       "0            +447935454150 lovely girl talk to me xxx﻿      1  \n",
       "1      I always end up coming back to this song<br />﻿      0  \n",
       "2    my sister just received over 6,500 new <a rel=...      1  \n",
       "3                                                Cool﻿      0  \n",
       "4                       Hello I&#39;am from Palastine﻿      1  \n",
       "..                                                 ...    ...  \n",
       "443           SUBSCRIBE TO MY CHANNEL X PLEASE!. SPARE      1  \n",
       "444  Check out my videos guy! :) Hope you guys had ...      1  \n",
       "445  3 yrs ago I had a health scare but thankfully ...      1  \n",
       "446       Rihanna looks so beautiful with red hair ;)﻿      0  \n",
       "447  857.482.940 views AWESOME !!!!!!!!!!!!!!!!!!!!...      0  \n",
       "\n",
       "[448 rows x 5 columns]"
      ]
     },
     "execution_count": 218,
     "metadata": {},
     "output_type": "execute_result"
    }
   ],
   "source": [
    "df = pd.read_csv(\"Youtube04-Eminem.csv\")\n",
    "df"
   ]
  },
  {
   "cell_type": "markdown",
   "id": "f24d1be0",
   "metadata": {},
   "source": [
    "train/test set split"
   ]
  },
  {
   "cell_type": "code",
   "execution_count": 219,
   "id": "3ce8aff5",
   "metadata": {},
   "outputs": [
    {
     "data": {
      "text/html": [
       "<div>\n",
       "<style scoped>\n",
       "    .dataframe tbody tr th:only-of-type {\n",
       "        vertical-align: middle;\n",
       "    }\n",
       "\n",
       "    .dataframe tbody tr th {\n",
       "        vertical-align: top;\n",
       "    }\n",
       "\n",
       "    .dataframe thead th {\n",
       "        text-align: right;\n",
       "    }\n",
       "</style>\n",
       "<table border=\"1\" class=\"dataframe\">\n",
       "  <thead>\n",
       "    <tr style=\"text-align: right;\">\n",
       "      <th></th>\n",
       "      <th>COMMENT_ID</th>\n",
       "      <th>AUTHOR</th>\n",
       "      <th>DATE</th>\n",
       "      <th>CONTENT</th>\n",
       "      <th>CLASS</th>\n",
       "    </tr>\n",
       "  </thead>\n",
       "  <tbody>\n",
       "    <tr>\n",
       "      <th>1</th>\n",
       "      <td>z130wpnwwnyuetxcn23xf5k5ynmkdpjrj04</td>\n",
       "      <td>jason graham</td>\n",
       "      <td>2015-05-29T02:26:10.652000</td>\n",
       "      <td>I always end up coming back to this song&lt;br /&gt;﻿</td>\n",
       "      <td>0</td>\n",
       "    </tr>\n",
       "    <tr>\n",
       "      <th>3</th>\n",
       "      <td>z12wjzc4eprnvja4304cgbbizuved35wxcs</td>\n",
       "      <td>Dakota Taylor</td>\n",
       "      <td>2015-05-29T02:13:07.810000</td>\n",
       "      <td>Cool﻿</td>\n",
       "      <td>0</td>\n",
       "    </tr>\n",
       "    <tr>\n",
       "      <th>5</th>\n",
       "      <td>z133yfmjdur4dvyjr04ceh2osl2fvngrqi4</td>\n",
       "      <td>Darrion Johnson</td>\n",
       "      <td>2015-05-29T01:27:30.360000</td>\n",
       "      <td>Wow this video almost has a billion views! Did...</td>\n",
       "      <td>0</td>\n",
       "    </tr>\n",
       "    <tr>\n",
       "      <th>7</th>\n",
       "      <td>z12vxdzzds2kzzrzq04cdjc4ozq2szuyl5o</td>\n",
       "      <td>Damax</td>\n",
       "      <td>2015-05-29T00:41:22.426000</td>\n",
       "      <td>Almost 1 billion﻿</td>\n",
       "      <td>0</td>\n",
       "    </tr>\n",
       "    <tr>\n",
       "      <th>9</th>\n",
       "      <td>z132wd4ywmicxj2gn04cdfhilyryjhmjhk00k</td>\n",
       "      <td>JuanPa Rap</td>\n",
       "      <td>2015-05-28T23:23:41.231000</td>\n",
       "      <td>Eminem is idol for very people in España and M...</td>\n",
       "      <td>0</td>\n",
       "    </tr>\n",
       "    <tr>\n",
       "      <th>...</th>\n",
       "      <td>...</td>\n",
       "      <td>...</td>\n",
       "      <td>...</td>\n",
       "      <td>...</td>\n",
       "      <td>...</td>\n",
       "    </tr>\n",
       "    <tr>\n",
       "      <th>437</th>\n",
       "      <td>z13zfhkhfzrpjhgku22ewbtj4quri3izo04</td>\n",
       "      <td>Amaral Shady 013</td>\n",
       "      <td>2015-05-07T22:43:51.220000</td>\n",
       "      <td>Hello Brazil 😻✌💓😻👏﻿</td>\n",
       "      <td>0</td>\n",
       "    </tr>\n",
       "    <tr>\n",
       "      <th>438</th>\n",
       "      <td>z12msjqximryxdfz104cjhbhtw2ld5ipsh4</td>\n",
       "      <td>SIR JOHN</td>\n",
       "      <td>2015-05-07T02:28:12.704000</td>\n",
       "      <td>EMINEM the best EVER.﻿</td>\n",
       "      <td>0</td>\n",
       "    </tr>\n",
       "    <tr>\n",
       "      <th>441</th>\n",
       "      <td>z12wvru4rzf5jx0wj04cgx5q1qi1w554ba0</td>\n",
       "      <td>Erin Williams</td>\n",
       "      <td>2015-05-06T17:19:21.193000</td>\n",
       "      <td>Best. Song. EVER 🙌﻿</td>\n",
       "      <td>0</td>\n",
       "    </tr>\n",
       "    <tr>\n",
       "      <th>446</th>\n",
       "      <td>z12hfp2wmyuqztkw504cgblyxtbsxjuzeow0k</td>\n",
       "      <td>Jesse Pinkman</td>\n",
       "      <td>2015-05-06T11:42:44.601000</td>\n",
       "      <td>Rihanna looks so beautiful with red hair ;)﻿</td>\n",
       "      <td>0</td>\n",
       "    </tr>\n",
       "    <tr>\n",
       "      <th>447</th>\n",
       "      <td>z13tsbc5vvn0hdozz04chjt51lq1cvris0k</td>\n",
       "      <td>Gaming Gaming</td>\n",
       "      <td>2015-05-06T10:56:35.972000</td>\n",
       "      <td>857.482.940 views AWESOME !!!!!!!!!!!!!!!!!!!!...</td>\n",
       "      <td>0</td>\n",
       "    </tr>\n",
       "  </tbody>\n",
       "</table>\n",
       "<p>203 rows × 5 columns</p>\n",
       "</div>"
      ],
      "text/plain": [
       "                                COMMENT_ID            AUTHOR  \\\n",
       "1      z130wpnwwnyuetxcn23xf5k5ynmkdpjrj04      jason graham   \n",
       "3      z12wjzc4eprnvja4304cgbbizuved35wxcs     Dakota Taylor   \n",
       "5      z133yfmjdur4dvyjr04ceh2osl2fvngrqi4   Darrion Johnson   \n",
       "7      z12vxdzzds2kzzrzq04cdjc4ozq2szuyl5o             Damax   \n",
       "9    z132wd4ywmicxj2gn04cdfhilyryjhmjhk00k        JuanPa Rap   \n",
       "..                                     ...               ...   \n",
       "437    z13zfhkhfzrpjhgku22ewbtj4quri3izo04  Amaral Shady 013   \n",
       "438    z12msjqximryxdfz104cjhbhtw2ld5ipsh4          SIR JOHN   \n",
       "441    z12wvru4rzf5jx0wj04cgx5q1qi1w554ba0     Erin Williams   \n",
       "446  z12hfp2wmyuqztkw504cgblyxtbsxjuzeow0k     Jesse Pinkman   \n",
       "447    z13tsbc5vvn0hdozz04chjt51lq1cvris0k     Gaming Gaming   \n",
       "\n",
       "                           DATE  \\\n",
       "1    2015-05-29T02:26:10.652000   \n",
       "3    2015-05-29T02:13:07.810000   \n",
       "5    2015-05-29T01:27:30.360000   \n",
       "7    2015-05-29T00:41:22.426000   \n",
       "9    2015-05-28T23:23:41.231000   \n",
       "..                          ...   \n",
       "437  2015-05-07T22:43:51.220000   \n",
       "438  2015-05-07T02:28:12.704000   \n",
       "441  2015-05-06T17:19:21.193000   \n",
       "446  2015-05-06T11:42:44.601000   \n",
       "447  2015-05-06T10:56:35.972000   \n",
       "\n",
       "                                               CONTENT  CLASS  \n",
       "1      I always end up coming back to this song<br />﻿      0  \n",
       "3                                                Cool﻿      0  \n",
       "5    Wow this video almost has a billion views! Did...      0  \n",
       "7                                    Almost 1 billion﻿      0  \n",
       "9    Eminem is idol for very people in España and M...      0  \n",
       "..                                                 ...    ...  \n",
       "437                                Hello Brazil 😻✌💓😻👏﻿      0  \n",
       "438                             EMINEM the best EVER.﻿      0  \n",
       "441                                Best. Song. EVER 🙌﻿      0  \n",
       "446       Rihanna looks so beautiful with red hair ;)﻿      0  \n",
       "447  857.482.940 views AWESOME !!!!!!!!!!!!!!!!!!!!...      0  \n",
       "\n",
       "[203 rows x 5 columns]"
      ]
     },
     "execution_count": 219,
     "metadata": {},
     "output_type": "execute_result"
    }
   ],
   "source": [
    "Ham = df[df[\"CLASS\"] == 0]\n",
    "H = len(Ham.index)\n",
    "Ham"
   ]
  },
  {
   "cell_type": "code",
   "execution_count": 220,
   "id": "0cdc3747",
   "metadata": {},
   "outputs": [
    {
     "data": {
      "text/html": [
       "<div>\n",
       "<style scoped>\n",
       "    .dataframe tbody tr th:only-of-type {\n",
       "        vertical-align: middle;\n",
       "    }\n",
       "\n",
       "    .dataframe tbody tr th {\n",
       "        vertical-align: top;\n",
       "    }\n",
       "\n",
       "    .dataframe thead th {\n",
       "        text-align: right;\n",
       "    }\n",
       "</style>\n",
       "<table border=\"1\" class=\"dataframe\">\n",
       "  <thead>\n",
       "    <tr style=\"text-align: right;\">\n",
       "      <th></th>\n",
       "      <th>COMMENT_ID</th>\n",
       "      <th>AUTHOR</th>\n",
       "      <th>DATE</th>\n",
       "      <th>CONTENT</th>\n",
       "      <th>CLASS</th>\n",
       "    </tr>\n",
       "  </thead>\n",
       "  <tbody>\n",
       "    <tr>\n",
       "      <th>0</th>\n",
       "      <td>z12rwfnyyrbsefonb232i5ehdxzkjzjs2</td>\n",
       "      <td>Lisa Wellas</td>\n",
       "      <td>NaN</td>\n",
       "      <td>+447935454150 lovely girl talk to me xxx﻿</td>\n",
       "      <td>1</td>\n",
       "    </tr>\n",
       "    <tr>\n",
       "      <th>2</th>\n",
       "      <td>z13vsfqirtavjvu0t22ezrgzyorwxhpf3</td>\n",
       "      <td>Ajkal Khan</td>\n",
       "      <td>NaN</td>\n",
       "      <td>my sister just received over 6,500 new &lt;a rel=...</td>\n",
       "      <td>1</td>\n",
       "    </tr>\n",
       "    <tr>\n",
       "      <th>4</th>\n",
       "      <td>z13xjfr42z3uxdz2223gx5rrzs3dt5hna</td>\n",
       "      <td>Jihad Naser</td>\n",
       "      <td>NaN</td>\n",
       "      <td>Hello I&amp;#39;am from Palastine﻿</td>\n",
       "      <td>1</td>\n",
       "    </tr>\n",
       "    <tr>\n",
       "      <th>6</th>\n",
       "      <td>z12zgrw5furdsn0sc233hfwavnznyhicq</td>\n",
       "      <td>kyeman13</td>\n",
       "      <td>NaN</td>\n",
       "      <td>Go check out my rapping video called Four Whee...</td>\n",
       "      <td>1</td>\n",
       "    </tr>\n",
       "    <tr>\n",
       "      <th>8</th>\n",
       "      <td>z12gxdortqzwhhqas04cfjrwituzghb5tvk0k</td>\n",
       "      <td>Muhammad Asim Mansha</td>\n",
       "      <td>NaN</td>\n",
       "      <td>Aslamu Lykum... From Pakistan﻿</td>\n",
       "      <td>1</td>\n",
       "    </tr>\n",
       "    <tr>\n",
       "      <th>...</th>\n",
       "      <td>...</td>\n",
       "      <td>...</td>\n",
       "      <td>...</td>\n",
       "      <td>...</td>\n",
       "      <td>...</td>\n",
       "    </tr>\n",
       "    <tr>\n",
       "      <th>440</th>\n",
       "      <td>LneaDw26bFv4NFg1m91sL1Aq1p-2N06VweQT4vOwTqc</td>\n",
       "      <td>Ando Nesia - | MC | Music Producer</td>\n",
       "      <td>NaN</td>\n",
       "      <td>DO YOU KNOW HOW SEAN KINGSTON GOT FAMOUS WHY D...</td>\n",
       "      <td>1</td>\n",
       "    </tr>\n",
       "    <tr>\n",
       "      <th>442</th>\n",
       "      <td>LneaDw26bFsVQRSG0ecctIfRIn4Od1tJqvnhDwCNqbI</td>\n",
       "      <td>the34104</td>\n",
       "      <td>NaN</td>\n",
       "      <td>check out eminem latest track survival if u didnt</td>\n",
       "      <td>1</td>\n",
       "    </tr>\n",
       "    <tr>\n",
       "      <th>443</th>\n",
       "      <td>LneaDw26bFu3RCmyrWyP9S6wh1h9dBv3X95g1HzKAb4</td>\n",
       "      <td>Dany PK</td>\n",
       "      <td>NaN</td>\n",
       "      <td>SUBSCRIBE TO MY CHANNEL X PLEASE!. SPARE</td>\n",
       "      <td>1</td>\n",
       "    </tr>\n",
       "    <tr>\n",
       "      <th>444</th>\n",
       "      <td>LneaDw26bFsD65dtIvAEObWYIYnFTqQDKBek_Ypz3J8</td>\n",
       "      <td>SmexyFriedChicken</td>\n",
       "      <td>NaN</td>\n",
       "      <td>Check out my videos guy! :) Hope you guys had ...</td>\n",
       "      <td>1</td>\n",
       "    </tr>\n",
       "    <tr>\n",
       "      <th>445</th>\n",
       "      <td>LneaDw26bFuvs-8oWkLpAFa6g3QHpWD8k7sbbMP3Bg8</td>\n",
       "      <td>The Guy That's Done Everything</td>\n",
       "      <td>NaN</td>\n",
       "      <td>3 yrs ago I had a health scare but thankfully ...</td>\n",
       "      <td>1</td>\n",
       "    </tr>\n",
       "  </tbody>\n",
       "</table>\n",
       "<p>245 rows × 5 columns</p>\n",
       "</div>"
      ],
      "text/plain": [
       "                                      COMMENT_ID  \\\n",
       "0              z12rwfnyyrbsefonb232i5ehdxzkjzjs2   \n",
       "2              z13vsfqirtavjvu0t22ezrgzyorwxhpf3   \n",
       "4              z13xjfr42z3uxdz2223gx5rrzs3dt5hna   \n",
       "6              z12zgrw5furdsn0sc233hfwavnznyhicq   \n",
       "8          z12gxdortqzwhhqas04cfjrwituzghb5tvk0k   \n",
       "..                                           ...   \n",
       "440  LneaDw26bFv4NFg1m91sL1Aq1p-2N06VweQT4vOwTqc   \n",
       "442  LneaDw26bFsVQRSG0ecctIfRIn4Od1tJqvnhDwCNqbI   \n",
       "443  LneaDw26bFu3RCmyrWyP9S6wh1h9dBv3X95g1HzKAb4   \n",
       "444  LneaDw26bFsD65dtIvAEObWYIYnFTqQDKBek_Ypz3J8   \n",
       "445  LneaDw26bFuvs-8oWkLpAFa6g3QHpWD8k7sbbMP3Bg8   \n",
       "\n",
       "                                 AUTHOR DATE  \\\n",
       "0                           Lisa Wellas  NaN   \n",
       "2                            Ajkal Khan  NaN   \n",
       "4                           Jihad Naser  NaN   \n",
       "6                              kyeman13  NaN   \n",
       "8                  Muhammad Asim Mansha  NaN   \n",
       "..                                  ...  ...   \n",
       "440  Ando Nesia - | MC | Music Producer  NaN   \n",
       "442                            the34104  NaN   \n",
       "443                             Dany PK  NaN   \n",
       "444                   SmexyFriedChicken  NaN   \n",
       "445      The Guy That's Done Everything  NaN   \n",
       "\n",
       "                                               CONTENT  CLASS  \n",
       "0            +447935454150 lovely girl talk to me xxx﻿      1  \n",
       "2    my sister just received over 6,500 new <a rel=...      1  \n",
       "4                       Hello I&#39;am from Palastine﻿      1  \n",
       "6    Go check out my rapping video called Four Whee...      1  \n",
       "8                       Aslamu Lykum... From Pakistan﻿      1  \n",
       "..                                                 ...    ...  \n",
       "440  DO YOU KNOW HOW SEAN KINGSTON GOT FAMOUS WHY D...      1  \n",
       "442  check out eminem latest track survival if u didnt      1  \n",
       "443           SUBSCRIBE TO MY CHANNEL X PLEASE!. SPARE      1  \n",
       "444  Check out my videos guy! :) Hope you guys had ...      1  \n",
       "445  3 yrs ago I had a health scare but thankfully ...      1  \n",
       "\n",
       "[245 rows x 5 columns]"
      ]
     },
     "execution_count": 220,
     "metadata": {},
     "output_type": "execute_result"
    }
   ],
   "source": [
    "Spam = df[df[\"CLASS\"] == 1]\n",
    "S = len(Spam.index)\n",
    "Spam"
   ]
  },
  {
   "cell_type": "code",
   "execution_count": 221,
   "id": "e8c66700",
   "metadata": {},
   "outputs": [
    {
     "data": {
      "text/html": [
       "<div>\n",
       "<style scoped>\n",
       "    .dataframe tbody tr th:only-of-type {\n",
       "        vertical-align: middle;\n",
       "    }\n",
       "\n",
       "    .dataframe tbody tr th {\n",
       "        vertical-align: top;\n",
       "    }\n",
       "\n",
       "    .dataframe thead th {\n",
       "        text-align: right;\n",
       "    }\n",
       "</style>\n",
       "<table border=\"1\" class=\"dataframe\">\n",
       "  <thead>\n",
       "    <tr style=\"text-align: right;\">\n",
       "      <th></th>\n",
       "      <th>AUTHOR</th>\n",
       "      <th>CLASS</th>\n",
       "      <th>COMMENT_ID</th>\n",
       "      <th>CONTENT</th>\n",
       "      <th>DATE</th>\n",
       "    </tr>\n",
       "  </thead>\n",
       "  <tbody>\n",
       "    <tr>\n",
       "      <th>1</th>\n",
       "      <td>jason graham</td>\n",
       "      <td>0.0</td>\n",
       "      <td>z130wpnwwnyuetxcn23xf5k5ynmkdpjrj04</td>\n",
       "      <td>I always end up coming back to this song&lt;br /&gt;﻿</td>\n",
       "      <td>2015-05-29T02:26:10.652000</td>\n",
       "    </tr>\n",
       "    <tr>\n",
       "      <th>3</th>\n",
       "      <td>Dakota Taylor</td>\n",
       "      <td>0.0</td>\n",
       "      <td>z12wjzc4eprnvja4304cgbbizuved35wxcs</td>\n",
       "      <td>Cool﻿</td>\n",
       "      <td>2015-05-29T02:13:07.810000</td>\n",
       "    </tr>\n",
       "    <tr>\n",
       "      <th>5</th>\n",
       "      <td>Darrion Johnson</td>\n",
       "      <td>0.0</td>\n",
       "      <td>z133yfmjdur4dvyjr04ceh2osl2fvngrqi4</td>\n",
       "      <td>Wow this video almost has a billion views! Did...</td>\n",
       "      <td>2015-05-29T01:27:30.360000</td>\n",
       "    </tr>\n",
       "    <tr>\n",
       "      <th>7</th>\n",
       "      <td>Damax</td>\n",
       "      <td>0.0</td>\n",
       "      <td>z12vxdzzds2kzzrzq04cdjc4ozq2szuyl5o</td>\n",
       "      <td>Almost 1 billion﻿</td>\n",
       "      <td>2015-05-29T00:41:22.426000</td>\n",
       "    </tr>\n",
       "    <tr>\n",
       "      <th>9</th>\n",
       "      <td>JuanPa Rap</td>\n",
       "      <td>0.0</td>\n",
       "      <td>z132wd4ywmicxj2gn04cdfhilyryjhmjhk00k</td>\n",
       "      <td>Eminem is idol for very people in España and M...</td>\n",
       "      <td>2015-05-28T23:23:41.231000</td>\n",
       "    </tr>\n",
       "    <tr>\n",
       "      <th>...</th>\n",
       "      <td>...</td>\n",
       "      <td>...</td>\n",
       "      <td>...</td>\n",
       "      <td>...</td>\n",
       "      <td>...</td>\n",
       "    </tr>\n",
       "    <tr>\n",
       "      <th>337</th>\n",
       "      <td>Adam B</td>\n",
       "      <td>1.0</td>\n",
       "      <td>LneaDw26bFvA7_ot-Z3kQHP4GTE3g_Zc2fsfdZ4COpI</td>\n",
       "      <td>adam b beats check out my page 2013</td>\n",
       "      <td>NaN</td>\n",
       "    </tr>\n",
       "    <tr>\n",
       "      <th>338</th>\n",
       "      <td>Domen Kristan</td>\n",
       "      <td>1.0</td>\n",
       "      <td>LneaDw26bFtdk45hGIs0TDD3NHx1srFG99yWWbEIXG0</td>\n",
       "      <td>CHECK OUT THESE LYRICS /watch?v=yUTTX04oyqQ</td>\n",
       "      <td>NaN</td>\n",
       "    </tr>\n",
       "    <tr>\n",
       "      <th>340</th>\n",
       "      <td>Chelsea Cameron</td>\n",
       "      <td>1.0</td>\n",
       "      <td>LneaDw26bFsPpgYyHcGAJk2dyALknpZ1ITQKBmY32HI</td>\n",
       "      <td>*****PLEASE READ*****  Hey everyone! I&amp;#39;m a...</td>\n",
       "      <td>NaN</td>\n",
       "    </tr>\n",
       "    <tr>\n",
       "      <th>342</th>\n",
       "      <td>Lil M</td>\n",
       "      <td>1.0</td>\n",
       "      <td>LneaDw26bFuiTZZU8HrWJPqWfqnrKTtUXy7-rTnPwfU</td>\n",
       "      <td>Hi I&amp;#39;m lil m !!! Check out love the way yo...</td>\n",
       "      <td>NaN</td>\n",
       "    </tr>\n",
       "    <tr>\n",
       "      <th>343</th>\n",
       "      <td>AdmiralMusclebeard</td>\n",
       "      <td>1.0</td>\n",
       "      <td>LneaDw26bFuKZRaKv1u8jqanxsDr6RJraSjf2FfE1_Q</td>\n",
       "      <td>I&amp;#39;m subscribing to you just because your c...</td>\n",
       "      <td>NaN</td>\n",
       "    </tr>\n",
       "  </tbody>\n",
       "</table>\n",
       "<p>359 rows × 5 columns</p>\n",
       "</div>"
      ],
      "text/plain": [
       "                 AUTHOR  CLASS                                   COMMENT_ID  \\\n",
       "1          jason graham    0.0          z130wpnwwnyuetxcn23xf5k5ynmkdpjrj04   \n",
       "3         Dakota Taylor    0.0          z12wjzc4eprnvja4304cgbbizuved35wxcs   \n",
       "5       Darrion Johnson    0.0          z133yfmjdur4dvyjr04ceh2osl2fvngrqi4   \n",
       "7                 Damax    0.0          z12vxdzzds2kzzrzq04cdjc4ozq2szuyl5o   \n",
       "9            JuanPa Rap    0.0        z132wd4ywmicxj2gn04cdfhilyryjhmjhk00k   \n",
       "..                  ...    ...                                          ...   \n",
       "337              Adam B    1.0  LneaDw26bFvA7_ot-Z3kQHP4GTE3g_Zc2fsfdZ4COpI   \n",
       "338       Domen Kristan    1.0  LneaDw26bFtdk45hGIs0TDD3NHx1srFG99yWWbEIXG0   \n",
       "340     Chelsea Cameron    1.0  LneaDw26bFsPpgYyHcGAJk2dyALknpZ1ITQKBmY32HI   \n",
       "342               Lil M    1.0  LneaDw26bFuiTZZU8HrWJPqWfqnrKTtUXy7-rTnPwfU   \n",
       "343  AdmiralMusclebeard    1.0  LneaDw26bFuKZRaKv1u8jqanxsDr6RJraSjf2FfE1_Q   \n",
       "\n",
       "                                               CONTENT  \\\n",
       "1      I always end up coming back to this song<br />﻿   \n",
       "3                                                Cool﻿   \n",
       "5    Wow this video almost has a billion views! Did...   \n",
       "7                                    Almost 1 billion﻿   \n",
       "9    Eminem is idol for very people in España and M...   \n",
       "..                                                 ...   \n",
       "337                adam b beats check out my page 2013   \n",
       "338        CHECK OUT THESE LYRICS /watch?v=yUTTX04oyqQ   \n",
       "340  *****PLEASE READ*****  Hey everyone! I&#39;m a...   \n",
       "342  Hi I&#39;m lil m !!! Check out love the way yo...   \n",
       "343  I&#39;m subscribing to you just because your c...   \n",
       "\n",
       "                           DATE  \n",
       "1    2015-05-29T02:26:10.652000  \n",
       "3    2015-05-29T02:13:07.810000  \n",
       "5    2015-05-29T01:27:30.360000  \n",
       "7    2015-05-29T00:41:22.426000  \n",
       "9    2015-05-28T23:23:41.231000  \n",
       "..                          ...  \n",
       "337                         NaN  \n",
       "338                         NaN  \n",
       "340                         NaN  \n",
       "342                         NaN  \n",
       "343                         NaN  \n",
       "\n",
       "[359 rows x 5 columns]"
      ]
     },
     "execution_count": 221,
     "metadata": {},
     "output_type": "execute_result"
    }
   ],
   "source": [
    "#Select the first b0.8Hc of H hams and the first b0.8Sc of S spams as your training set and the rest as your test set. \n",
    "testingset = pd.DataFrame()\n",
    "trainingset = pd.DataFrame()\n",
    "\n",
    "for loc in range(len(Ham)):\n",
    "    if(loc < 0.8*H):\n",
    "        trainingset = trainingset.append(Ham.iloc[loc])\n",
    "    else:\n",
    "        testingset = testingset.append(Ham.iloc[loc])        \n",
    "        \n",
    "for loc in range(len(Spam)):\n",
    "    if(loc < 0.8*S):\n",
    "        trainingset = trainingset.append(Spam.iloc[loc])\n",
    "    else:\n",
    "        testingset = testingset.append(Spam.iloc[loc])\n",
    "\n",
    "trainingset"
   ]
  },
  {
   "cell_type": "code",
   "execution_count": 222,
   "id": "f9047df5",
   "metadata": {},
   "outputs": [
    {
     "data": {
      "text/html": [
       "<div>\n",
       "<style scoped>\n",
       "    .dataframe tbody tr th:only-of-type {\n",
       "        vertical-align: middle;\n",
       "    }\n",
       "\n",
       "    .dataframe tbody tr th {\n",
       "        vertical-align: top;\n",
       "    }\n",
       "\n",
       "    .dataframe thead th {\n",
       "        text-align: right;\n",
       "    }\n",
       "</style>\n",
       "<table border=\"1\" class=\"dataframe\">\n",
       "  <thead>\n",
       "    <tr style=\"text-align: right;\">\n",
       "      <th></th>\n",
       "      <th>AUTHOR</th>\n",
       "      <th>CLASS</th>\n",
       "      <th>COMMENT_ID</th>\n",
       "      <th>CONTENT</th>\n",
       "      <th>DATE</th>\n",
       "    </tr>\n",
       "  </thead>\n",
       "  <tbody>\n",
       "    <tr>\n",
       "      <th>371</th>\n",
       "      <td>Emma Halbrook</td>\n",
       "      <td>0.0</td>\n",
       "      <td>z13ihhrakmndxblzo04chpp53nn2xbja1fc</td>\n",
       "      <td>My favorite song 💗💗💗💗﻿</td>\n",
       "      <td>2015-05-21T04:46:05.790000</td>\n",
       "    </tr>\n",
       "    <tr>\n",
       "      <th>374</th>\n",
       "      <td>Andrés Nuñez</td>\n",
       "      <td>0.0</td>\n",
       "      <td>z13ehf4g5z2rivxhm04cfjdyhl2kwljzsjs</td>\n",
       "      <td>super﻿</td>\n",
       "      <td>2015-05-21T02:11:54.710000</td>\n",
       "    </tr>\n",
       "    <tr>\n",
       "      <th>381</th>\n",
       "      <td>Carolina Sanchez Cifuentes</td>\n",
       "      <td>0.0</td>\n",
       "      <td>z12gdzyrqwvtvxfek230jnvp1zf4hjl3w</td>\n",
       "      <td>Love you﻿</td>\n",
       "      <td>2015-05-21T01:06:57.289000</td>\n",
       "    </tr>\n",
       "    <tr>\n",
       "      <th>385</th>\n",
       "      <td>Jp Galeanoo</td>\n",
       "      <td>0.0</td>\n",
       "      <td>z12qg5voponpgxwot04ci3txdw24ejr431g</td>\n",
       "      <td>I  love you Eminem﻿</td>\n",
       "      <td>2015-05-21T01:05:43.761000</td>\n",
       "    </tr>\n",
       "    <tr>\n",
       "      <th>386</th>\n",
       "      <td>geraldine lopez</td>\n",
       "      <td>0.0</td>\n",
       "      <td>z13pup2w2k3rz1lxl04cf1a5qzavgvv51vg0k</td>\n",
       "      <td>love the you lie the good﻿</td>\n",
       "      <td>2015-05-20T23:44:25.920000</td>\n",
       "    </tr>\n",
       "    <tr>\n",
       "      <th>...</th>\n",
       "      <td>...</td>\n",
       "      <td>...</td>\n",
       "      <td>...</td>\n",
       "      <td>...</td>\n",
       "      <td>...</td>\n",
       "    </tr>\n",
       "    <tr>\n",
       "      <th>440</th>\n",
       "      <td>Ando Nesia - | MC | Music Producer</td>\n",
       "      <td>1.0</td>\n",
       "      <td>LneaDw26bFv4NFg1m91sL1Aq1p-2N06VweQT4vOwTqc</td>\n",
       "      <td>DO YOU KNOW HOW SEAN KINGSTON GOT FAMOUS WHY D...</td>\n",
       "      <td>NaN</td>\n",
       "    </tr>\n",
       "    <tr>\n",
       "      <th>442</th>\n",
       "      <td>the34104</td>\n",
       "      <td>1.0</td>\n",
       "      <td>LneaDw26bFsVQRSG0ecctIfRIn4Od1tJqvnhDwCNqbI</td>\n",
       "      <td>check out eminem latest track survival if u didnt</td>\n",
       "      <td>NaN</td>\n",
       "    </tr>\n",
       "    <tr>\n",
       "      <th>443</th>\n",
       "      <td>Dany PK</td>\n",
       "      <td>1.0</td>\n",
       "      <td>LneaDw26bFu3RCmyrWyP9S6wh1h9dBv3X95g1HzKAb4</td>\n",
       "      <td>SUBSCRIBE TO MY CHANNEL X PLEASE!. SPARE</td>\n",
       "      <td>NaN</td>\n",
       "    </tr>\n",
       "    <tr>\n",
       "      <th>444</th>\n",
       "      <td>SmexyFriedChicken</td>\n",
       "      <td>1.0</td>\n",
       "      <td>LneaDw26bFsD65dtIvAEObWYIYnFTqQDKBek_Ypz3J8</td>\n",
       "      <td>Check out my videos guy! :) Hope you guys had ...</td>\n",
       "      <td>NaN</td>\n",
       "    </tr>\n",
       "    <tr>\n",
       "      <th>445</th>\n",
       "      <td>The Guy That's Done Everything</td>\n",
       "      <td>1.0</td>\n",
       "      <td>LneaDw26bFuvs-8oWkLpAFa6g3QHpWD8k7sbbMP3Bg8</td>\n",
       "      <td>3 yrs ago I had a health scare but thankfully ...</td>\n",
       "      <td>NaN</td>\n",
       "    </tr>\n",
       "  </tbody>\n",
       "</table>\n",
       "<p>89 rows × 5 columns</p>\n",
       "</div>"
      ],
      "text/plain": [
       "                                 AUTHOR  CLASS  \\\n",
       "371                       Emma Halbrook    0.0   \n",
       "374                        Andrés Nuñez    0.0   \n",
       "381          Carolina Sanchez Cifuentes    0.0   \n",
       "385                         Jp Galeanoo    0.0   \n",
       "386                     geraldine lopez    0.0   \n",
       "..                                  ...    ...   \n",
       "440  Ando Nesia - | MC | Music Producer    1.0   \n",
       "442                            the34104    1.0   \n",
       "443                             Dany PK    1.0   \n",
       "444                   SmexyFriedChicken    1.0   \n",
       "445      The Guy That's Done Everything    1.0   \n",
       "\n",
       "                                      COMMENT_ID  \\\n",
       "371          z13ihhrakmndxblzo04chpp53nn2xbja1fc   \n",
       "374          z13ehf4g5z2rivxhm04cfjdyhl2kwljzsjs   \n",
       "381            z12gdzyrqwvtvxfek230jnvp1zf4hjl3w   \n",
       "385          z12qg5voponpgxwot04ci3txdw24ejr431g   \n",
       "386        z13pup2w2k3rz1lxl04cf1a5qzavgvv51vg0k   \n",
       "..                                           ...   \n",
       "440  LneaDw26bFv4NFg1m91sL1Aq1p-2N06VweQT4vOwTqc   \n",
       "442  LneaDw26bFsVQRSG0ecctIfRIn4Od1tJqvnhDwCNqbI   \n",
       "443  LneaDw26bFu3RCmyrWyP9S6wh1h9dBv3X95g1HzKAb4   \n",
       "444  LneaDw26bFsD65dtIvAEObWYIYnFTqQDKBek_Ypz3J8   \n",
       "445  LneaDw26bFuvs-8oWkLpAFa6g3QHpWD8k7sbbMP3Bg8   \n",
       "\n",
       "                                               CONTENT  \\\n",
       "371                             My favorite song 💗💗💗💗﻿   \n",
       "374                                             super﻿   \n",
       "381                                          Love you﻿   \n",
       "385                                I  love you Eminem﻿   \n",
       "386                         love the you lie the good﻿   \n",
       "..                                                 ...   \n",
       "440  DO YOU KNOW HOW SEAN KINGSTON GOT FAMOUS WHY D...   \n",
       "442  check out eminem latest track survival if u didnt   \n",
       "443           SUBSCRIBE TO MY CHANNEL X PLEASE!. SPARE   \n",
       "444  Check out my videos guy! :) Hope you guys had ...   \n",
       "445  3 yrs ago I had a health scare but thankfully ...   \n",
       "\n",
       "                           DATE  \n",
       "371  2015-05-21T04:46:05.790000  \n",
       "374  2015-05-21T02:11:54.710000  \n",
       "381  2015-05-21T01:06:57.289000  \n",
       "385  2015-05-21T01:05:43.761000  \n",
       "386  2015-05-20T23:44:25.920000  \n",
       "..                          ...  \n",
       "440                         NaN  \n",
       "442                         NaN  \n",
       "443                         NaN  \n",
       "444                         NaN  \n",
       "445                         NaN  \n",
       "\n",
       "[89 rows x 5 columns]"
      ]
     },
     "execution_count": 222,
     "metadata": {},
     "output_type": "execute_result"
    }
   ],
   "source": [
    "testingset"
   ]
  },
  {
   "cell_type": "markdown",
   "id": "28894fff",
   "metadata": {},
   "source": [
    "# Represent each comment using TF-IDF features."
   ]
  },
  {
   "cell_type": "code",
   "execution_count": 223,
   "id": "589cdc27",
   "metadata": {},
   "outputs": [],
   "source": [
    "corpus = df[\"CONTENT\"]\n",
    "cv = CountVectorizer(binary = True)\n",
    "cv.fit_transform(corpus)\n",
    "\n",
    "corpus_set = cv.transform(corpus)\n",
    "\n",
    "train_features_set = cv.transform(trainingset[\"CONTENT\"].values)\n",
    "test_features_set = cv.transform(testingset[\"CONTENT\"].values)"
   ]
  },
  {
   "cell_type": "code",
   "execution_count": 224,
   "id": "b37c7f6b",
   "metadata": {},
   "outputs": [],
   "source": [
    "tf_transformer = TfidfTransformer(use_idf=True).fit(train_features_set)\n",
    "X_train_tfidf = tf_transformer.transform(train_features_set)"
   ]
  },
  {
   "cell_type": "code",
   "execution_count": 225,
   "id": "0c9dfb82",
   "metadata": {},
   "outputs": [
    {
     "data": {
      "text/plain": [
       "(359, 1602)"
      ]
     },
     "execution_count": 225,
     "metadata": {},
     "output_type": "execute_result"
    }
   ],
   "source": [
    "train_features_set.shape"
   ]
  },
  {
   "cell_type": "code",
   "execution_count": 226,
   "id": "cae4f394",
   "metadata": {},
   "outputs": [
    {
     "data": {
      "text/plain": [
       "(89, 1602)"
      ]
     },
     "execution_count": 226,
     "metadata": {},
     "output_type": "execute_result"
    }
   ],
   "source": [
    "test_features_set.shape"
   ]
  },
  {
   "cell_type": "markdown",
   "id": "9a10986c",
   "metadata": {},
   "source": [
    "(d) L2-penalized Logistic Regression i)"
   ]
  },
  {
   "cell_type": "code",
   "execution_count": 227,
   "id": "32e84e64",
   "metadata": {},
   "outputs": [],
   "source": [
    "y_train = trainingset[\"CLASS\"]\n",
    "x_train = train_features_set\n",
    "\n",
    "y_test = testingset[\"CLASS\"]\n",
    "x_test = test_features_set"
   ]
  },
  {
   "cell_type": "code",
   "execution_count": 228,
   "id": "8cc365ad",
   "metadata": {},
   "outputs": [
    {
     "data": {
      "text/plain": [
       "((359, 1602), (359,))"
      ]
     },
     "execution_count": 228,
     "metadata": {},
     "output_type": "execute_result"
    }
   ],
   "source": [
    "x_train.shape, y_train.shape"
   ]
  },
  {
   "cell_type": "code",
   "execution_count": 229,
   "id": "7a247e65",
   "metadata": {},
   "outputs": [
    {
     "data": {
      "text/plain": [
       "((89, 1602), (89,))"
      ]
     },
     "execution_count": 229,
     "metadata": {},
     "output_type": "execute_result"
    }
   ],
   "source": [
    "x_test.shape, y_test.shape"
   ]
  },
  {
   "cell_type": "code",
   "execution_count": 230,
   "id": "86527f63",
   "metadata": {},
   "outputs": [],
   "source": [
    "log10lambda = [-5, -4, -3, -2, -1, 0, 1, 2, 3, 4, 5]\n",
    "lambdas = []\n",
    "lambda_scores = []\n",
    "\n",
    "for i in log10lambda:\n",
    "    currlam = pow(10,i)\n",
    "    KF = KFold(n_splits = 5, random_state = 42, shuffle = True)\n",
    "    LR = LogisticRegression(C = 1/currlam, penalty = \"l2\", max_iter=4000)\n",
    "    scores = cross_val_score(LR, x_train, y_train, scoring='accuracy', cv=KF)\n",
    "    lambdas.append(currlam)\n",
    "    lambda_scores.append(mean(scores))"
   ]
  },
  {
   "cell_type": "code",
   "execution_count": 231,
   "id": "b68018ee",
   "metadata": {},
   "outputs": [
    {
     "name": "stdout",
     "output_type": "stream",
     "text": [
      "The highest score is 0.9471048513302035\n",
      "The best lambda to use it 0.1\n"
     ]
    }
   ],
   "source": [
    "print(\"The highest score is \" + str(max(lambda_scores)))\n",
    "location = lambda_scores.index(max(lambda_scores))\n",
    "print(\"The best lambda to use it \" + str(lambdas[location]))\n",
    "lambda_star = lambdas[location]"
   ]
  },
  {
   "cell_type": "markdown",
   "id": "a813b2e6",
   "metadata": {},
   "source": [
    "# L2 prenalized Logistic regression"
   ]
  },
  {
   "cell_type": "code",
   "execution_count": 232,
   "id": "6221af12",
   "metadata": {},
   "outputs": [],
   "source": [
    "testingset = pd.DataFrame()\n",
    "trainingset = pd.DataFrame()\n",
    "\n",
    "for loc in range(len(Ham)):\n",
    "    if(loc < 0.8*H):\n",
    "        trainingset = trainingset.append(Ham.iloc[loc])\n",
    "    else:\n",
    "        testingset = testingset.append(Ham.iloc[loc])        \n",
    "        \n",
    "for loc in range(len(Spam)):\n",
    "    if(loc < 0.8*S):\n",
    "        trainingset = trainingset.append(Spam.iloc[loc])\n",
    "    else:\n",
    "        testingset = testingset.append(Spam.iloc[loc])"
   ]
  },
  {
   "cell_type": "code",
   "execution_count": 233,
   "id": "e6de617e",
   "metadata": {},
   "outputs": [],
   "source": [
    "y_train = trainingset[\"CLASS\"]\n",
    "x_train = trainingset[\"CONTENT\"]\n",
    "\n",
    "y_test = testingset[\"CLASS\"]\n",
    "x_test = testingset[\"CONTENT\"]"
   ]
  },
  {
   "cell_type": "code",
   "execution_count": 234,
   "id": "510031b6",
   "metadata": {},
   "outputs": [],
   "source": [
    "x_train_list = x_train.tolist()\n",
    "v = TfidfVectorizer(input = x_train_list)\n",
    "\n",
    "train_features_set = v.fit_transform(x_train.values)\n",
    "test_features_set = v.transform(x_test.values)"
   ]
  },
  {
   "cell_type": "code",
   "execution_count": 235,
   "id": "eb41b924",
   "metadata": {},
   "outputs": [],
   "source": [
    "LR = LogisticRegression(C = 1/lambda_star, penalty = \"l2\", solver = \"liblinear\", max_iter=4000).fit(train_features_set, y_train)"
   ]
  },
  {
   "cell_type": "code",
   "execution_count": 236,
   "id": "823f876b",
   "metadata": {},
   "outputs": [],
   "source": [
    "x_train_pred = LR.predict(train_features_set)\n",
    "x_test_pred = LR.predict(test_features_set)"
   ]
  },
  {
   "cell_type": "code",
   "execution_count": 238,
   "id": "fcc75943",
   "metadata": {},
   "outputs": [
    {
     "name": "stdout",
     "output_type": "stream",
     "text": [
      "Train set confusion matrix\n",
      "[[163   0]\n",
      " [  0 196]]\n",
      "Training Data Accuracy: 1.0\n",
      "Training Data Precision: [1. 1.]\n",
      "Training Data Recall: [1. 1.]\n",
      "Training Data F1-score: [1. 1.]\n"
     ]
    },
    {
     "data": {
      "image/png": "[encoded data removed]",
      "text/plain": [
       "<Figure size 432x288 with 1 Axes>"
      ]
     },
     "metadata": {
      "needs_background": "light"
     },
     "output_type": "display_data"
    },
    {
     "name": "stdout",
     "output_type": "stream",
     "text": [
      "Training Data AUC: 1.0\n"
     ]
    }
   ],
   "source": [
    "#confusion matrix\n",
    "train_confusion_matrix = confusion_matrix(y_train, x_train_pred)\n",
    "test_confusion_matrix = confusion_matrix(y_test, x_test_pred)\n",
    "print(\"Train set confusion matrix\")\n",
    "print(train_confusion_matrix)\n",
    "\n",
    "#Precision, Recall, F1 Score\n",
    "precision, recall, fscore, _ = precision_recall_fscore_support(y_train, x_train_pred)\n",
    "accuracy = accuracy_score(y_train, x_train_pred)\n",
    "\n",
    "print(\"Training Data Accuracy: \" + str(accuracy))\n",
    "print(\"Training Data Precision: \" + str(precision))\n",
    "print(\"Training Data Recall: \" + str(recall))\n",
    "print(\"Training Data F1-score: \" + str(fscore))\n",
    "\n",
    "#ROC\n",
    "probs = LR.predict_proba(train_features_set)\n",
    "train_probs = probs[::,1]\n",
    "pr, tpr, threshold = roc_curve(y_train, train_probs, pos_label=1)\n",
    "plt.plot(pr, tpr)\n",
    "plt.title(\"ROC - Training Data\")\n",
    "plt.xlabel(\"False Positive Rate\")\n",
    "plt.ylabel(\"True Positive Rate\")\n",
    "plt.show()\n",
    "\n",
    "#AUC\n",
    "auc = roc_auc_score(y_train, train_probs)\n",
    "print(\"Training Data AUC: \" + str(auc))"
   ]
  },
  {
   "cell_type": "code",
   "execution_count": 239,
   "id": "a593000e",
   "metadata": {},
   "outputs": [
    {
     "name": "stdout",
     "output_type": "stream",
     "text": [
      "Test set confusion matrix\n",
      "[[39  1]\n",
      " [ 1 48]]\n",
      "Testing Data Accuracy: 0.9775280898876404\n",
      "Testing Data Precision: [0.975      0.97959184]\n",
      "Testing Data Recall: [0.975      0.97959184]\n",
      "Testing Data F1-score: [0.975      0.97959184]\n"
     ]
    },
    {
     "data": {
      "image/png": "[encoded data removed]",
      "text/plain": [
       "<Figure size 432x288 with 1 Axes>"
      ]
     },
     "metadata": {
      "needs_background": "light"
     },
     "output_type": "display_data"
    },
    {
     "name": "stdout",
     "output_type": "stream",
     "text": [
      "Testing Data AUC: 0.9954081632653062\n"
     ]
    }
   ],
   "source": [
    "#confusion matrix\n",
    "train_confusion_matrix = confusion_matrix(y_train, x_train_pred)\n",
    "test_confusion_matrix = confusion_matrix(y_test, x_test_pred)\n",
    "print(\"Test set confusion matrix\")\n",
    "print(test_confusion_matrix)\n",
    "\n",
    "#Precision, Recall, F1 Score\n",
    "precision, recall, fscore, _ = precision_recall_fscore_support(y_test, x_test_pred)\n",
    "accuracy = accuracy_score(y_test, x_test_pred)\n",
    "\n",
    "print(\"Testing Data Accuracy: \" + str(accuracy))\n",
    "print(\"Testing Data Precision: \" + str(precision))\n",
    "print(\"Testing Data Recall: \" + str(recall))\n",
    "print(\"Testing Data F1-score: \" + str(fscore))\n",
    "\n",
    "#ROC\n",
    "probs = LR.predict_proba(test_features_set)\n",
    "test_probs = probs[::,1]\n",
    "pr, tpr, threshold = roc_curve(y_test, test_probs, pos_label=1)\n",
    "plt.plot(pr, tpr)\n",
    "plt.title(\"ROC - Testing Data\")\n",
    "plt.xlabel(\"False Positive Rate\")\n",
    "plt.ylabel(\"True Positive Rate\")\n",
    "plt.show()\n",
    "\n",
    "#AUC\n",
    "auc = roc_auc_score(y_test, test_probs)\n",
    "print(\"Testing Data AUC: \" + str(auc))"
   ]
  },
  {
   "cell_type": "markdown",
   "id": "83b0aa9b",
   "metadata": {},
   "source": [
    "In this case, precision should be more important, since you do not want to accidentally filter out ham comments, and it is undesirable to get rid of every spam message at the cost of possibly getting rid of more ham message"
   ]
  },
  {
   "cell_type": "code",
   "execution_count": 240,
   "id": "485264a7",
   "metadata": {},
   "outputs": [
    {
     "name": "stdout",
     "output_type": "stream",
     "text": [
      "Beta = 0.1: F_B = 0.9795918367346939\n",
      "Beta = 0.5: F_B = 0.979591836734694\n",
      "Beta = 0.9: F_B = 0.9795918367346939\n",
      "Beta = 1: F_B = 0.9795918367346939\n",
      "Beta = 5: F_B = 0.9795918367346939\n",
      "Beta = 10: F_B = 0.9795918367346939\n"
     ]
    }
   ],
   "source": [
    "Beta = [0.1, 0.5, 0.9, 1, 5, 10]\n",
    "for i in Beta:\n",
    "    print(\"Beta = \" + str(i) + \": F_B = \" + str(fbeta_score(y_test, x_test_pred, beta=i)))"
   ]
  },
  {
   "cell_type": "markdown",
   "id": "46c4e277",
   "metadata": {},
   "source": [
    "# L1-penalized Logistic Regression"
   ]
  },
  {
   "cell_type": "code",
   "execution_count": 241,
   "id": "5c20a866",
   "metadata": {},
   "outputs": [
    {
     "name": "stdout",
     "output_type": "stream",
     "text": [
      "The highest score is 0.9469483568075118\n",
      "The best lambda to use it 0.01\n"
     ]
    },
    {
     "name": "stderr",
     "output_type": "stream",
     "text": [
      "C:\\Users\\Victor Hui\\anaconda3\\lib\\site-packages\\sklearn\\svm\\_base.py:985: ConvergenceWarning: Liblinear failed to converge, increase the number of iterations.\n",
      "  warnings.warn(\"Liblinear failed to converge, increase \"\n"
     ]
    }
   ],
   "source": [
    "y_train = trainingset[\"CLASS\"]\n",
    "x_train = train_features_set\n",
    "\n",
    "y_test = testingset[\"CLASS\"]\n",
    "x_test = test_features_set\n",
    "\n",
    "log10lambda = [-5, -4, -3, -2, -1, 0, 1, 2, 3, 4, 5]\n",
    "lambdas = []\n",
    "lambda_scores = []\n",
    "\n",
    "for i in log10lambda:\n",
    "    currlam = pow(10,i)\n",
    "    KF = KFold(n_splits = 5, random_state = 42, shuffle = True)\n",
    "    LR = LogisticRegression(C = 1/currlam, penalty = \"l1\", solver='liblinear', max_iter=4000)\n",
    "    scores = cross_val_score(LR, x_train, y_train, scoring='accuracy', cv=KF)\n",
    "    lambdas.append(currlam)\n",
    "    lambda_scores.append(mean(scores))\n",
    "    \n",
    "print(\"The highest score is \" + str(max(lambda_scores)))\n",
    "location = lambda_scores.index(max(lambda_scores))\n",
    "print(\"The best lambda to use it \" + str(lambdas[location]))\n",
    "lambda_star = lambdas[location]"
   ]
  },
  {
   "cell_type": "code",
   "execution_count": 242,
   "id": "b612ac5e",
   "metadata": {},
   "outputs": [
    {
     "name": "stdout",
     "output_type": "stream",
     "text": [
      "Train set confusion matrix\n",
      "[[163   0]\n",
      " [  0 196]]\n",
      "Training Data Accuracy: 1.0\n",
      "Training Data Precision: [1. 1.]\n",
      "Training Data Recall: [1. 1.]\n",
      "Training Data F1-score: [1. 1.]\n"
     ]
    },
    {
     "data": {
      "image/png": "[encoded data removed]",
      "text/plain": [
       "<Figure size 432x288 with 1 Axes>"
      ]
     },
     "metadata": {
      "needs_background": "light"
     },
     "output_type": "display_data"
    },
    {
     "name": "stdout",
     "output_type": "stream",
     "text": [
      "Training Data AUC: 1.0\n"
     ]
    }
   ],
   "source": [
    "testingset = pd.DataFrame()\n",
    "trainingset = pd.DataFrame()\n",
    "\n",
    "for loc in range(len(Ham)):\n",
    "    if(loc < 0.8*H):\n",
    "        trainingset = trainingset.append(Ham.iloc[loc])\n",
    "    else:\n",
    "        testingset = testingset.append(Ham.iloc[loc])        \n",
    "        \n",
    "for loc in range(len(Spam)):\n",
    "    if(loc < 0.8*S):\n",
    "        trainingset = trainingset.append(Spam.iloc[loc])\n",
    "    else:\n",
    "        testingset = testingset.append(Spam.iloc[loc])\n",
    "        \n",
    "y_train = trainingset[\"CLASS\"]\n",
    "x_train = trainingset[\"CONTENT\"]\n",
    "\n",
    "y_test = testingset[\"CLASS\"]\n",
    "x_test = testingset[\"CONTENT\"]\n",
    "\n",
    "x_train_list = x_train.tolist()\n",
    "v = TfidfVectorizer(input = x_train_list)\n",
    "\n",
    "train_features_set = v.fit_transform(x_train.values)\n",
    "test_features_set = v.transform(x_test.values)\n",
    "\n",
    "LR = LogisticRegression(C = 1/lambda_star, penalty = \"l1\", solver = \"liblinear\", max_iter=4000).fit(train_features_set, y_train)\n",
    "\n",
    "x_train_pred = LR.predict(train_features_set)\n",
    "x_test_pred = LR.predict(test_features_set)\n",
    "\n",
    "#confusion matrix\n",
    "train_confusion_matrix = confusion_matrix(y_train, x_train_pred)\n",
    "test_confusion_matrix = confusion_matrix(y_test, x_test_pred)\n",
    "print(\"Train set confusion matrix\")\n",
    "print(train_confusion_matrix)\n",
    "\n",
    "#Precision, Recall, F1 Score\n",
    "precision, recall, fscore, _ = precision_recall_fscore_support(y_train, x_train_pred)\n",
    "accuracy = accuracy_score(y_train, x_train_pred)\n",
    "\n",
    "print(\"Training Data Accuracy: \" + str(accuracy))\n",
    "print(\"Training Data Precision: \" + str(precision))\n",
    "print(\"Training Data Recall: \" + str(recall))\n",
    "print(\"Training Data F1-score: \" + str(fscore))\n",
    "\n",
    "#ROC\n",
    "probs = LR.predict_proba(train_features_set)\n",
    "train_probs = probs[::,1]\n",
    "pr, tpr, threshold = roc_curve(y_train, train_probs, pos_label=1)\n",
    "plt.plot(pr, tpr)\n",
    "plt.title(\"ROC - Training Data\")\n",
    "plt.xlabel(\"False Positive Rate\")\n",
    "plt.ylabel(\"True Positive Rate\")\n",
    "plt.show()\n",
    "\n",
    "#AUC\n",
    "auc = roc_auc_score(y_train, train_probs)\n",
    "print(\"Training Data AUC: \" + str(auc))"
   ]
  },
  {
   "cell_type": "code",
   "execution_count": 243,
   "id": "f1fa3c05",
   "metadata": {},
   "outputs": [
    {
     "name": "stdout",
     "output_type": "stream",
     "text": [
      "Test set confusion matrix\n",
      "[[40  0]\n",
      " [ 4 45]]\n",
      "Testing Data Accuracy: 0.9550561797752809\n",
      "Testing Data Precision: [0.90909091 1.        ]\n",
      "Testing Data Recall: [1.         0.91836735]\n",
      "Testing Data F1-score: [0.95238095 0.95744681]\n"
     ]
    },
    {
     "data": {
      "image/png": "[encoded data removed]",
      "text/plain": [
       "<Figure size 432x288 with 1 Axes>"
      ]
     },
     "metadata": {
      "needs_background": "light"
     },
     "output_type": "display_data"
    },
    {
     "name": "stdout",
     "output_type": "stream",
     "text": [
      "Testing Data AUC: 0.9974489795918368\n"
     ]
    }
   ],
   "source": [
    "#confusion matrix\n",
    "train_confusion_matrix = confusion_matrix(y_train, x_train_pred)\n",
    "test_confusion_matrix = confusion_matrix(y_test, x_test_pred)\n",
    "print(\"Test set confusion matrix\")\n",
    "print(test_confusion_matrix)\n",
    "\n",
    "#Precision, Recall, F1 Score\n",
    "precision, recall, fscore, _ = precision_recall_fscore_support(y_test, x_test_pred)\n",
    "accuracy = accuracy_score(y_test, x_test_pred)\n",
    "\n",
    "print(\"Testing Data Accuracy: \" + str(accuracy))\n",
    "print(\"Testing Data Precision: \" + str(precision))\n",
    "print(\"Testing Data Recall: \" + str(recall))\n",
    "print(\"Testing Data F1-score: \" + str(fscore))\n",
    "\n",
    "#ROC\n",
    "probs = LR.predict_proba(test_features_set)\n",
    "test_probs = probs[::,1]\n",
    "pr, tpr, threshold = roc_curve(y_test, test_probs, pos_label=1)\n",
    "plt.plot(pr, tpr)\n",
    "plt.title(\"ROC - Testing Data\")\n",
    "plt.xlabel(\"False Positive Rate\")\n",
    "plt.ylabel(\"True Positive Rate\")\n",
    "plt.show()\n",
    "\n",
    "#AUC\n",
    "auc = roc_auc_score(y_test, test_probs)\n",
    "print(\"Testing Data AUC: \" + str(auc))"
   ]
  },
  {
   "cell_type": "code",
   "execution_count": 244,
   "id": "74295f0d",
   "metadata": {},
   "outputs": [
    {
     "name": "stdout",
     "output_type": "stream",
     "text": [
      "Beta = 0.1: F_B = 0.9991206858650252\n",
      "Beta = 0.5: F_B = 0.9825327510917032\n",
      "Beta = 0.9: F_B = 0.9617428267800213\n",
      "Beta = 1: F_B = 0.9574468085106383\n",
      "Beta = 5: F_B = 0.921259842519685\n",
      "Beta = 10: F_B = 0.9191102123356926\n"
     ]
    }
   ],
   "source": [
    "Beta = [0.1, 0.5, 0.9, 1, 5, 10]\n",
    "for i in Beta:\n",
    "    print(\"Beta = \" + str(i) + \": F_B = \" + str(fbeta_score(y_test, x_test_pred, beta=i)))"
   ]
  },
  {
   "cell_type": "markdown",
   "id": "66ece3a3",
   "metadata": {},
   "source": [
    "# Binary Classification Using Naiive Bayes Classifiers"
   ]
  },
  {
   "cell_type": "code",
   "execution_count": 245,
   "id": "1cd72405",
   "metadata": {},
   "outputs": [],
   "source": [
    "df = pd.read_csv(\"Youtube04-Eminem.csv\")\n",
    "\n",
    "Ham = df[df[\"CLASS\"] == 0]\n",
    "Spam = df[df[\"CLASS\"] == 1]\n",
    "\n",
    "testingset = pd.DataFrame()\n",
    "trainingset = pd.DataFrame()\n",
    "\n",
    "for loc in range(len(Ham)):\n",
    "    if(loc < 0.8*H):\n",
    "        trainingset = trainingset.append(Ham.iloc[loc])\n",
    "    else:\n",
    "        testingset = testingset.append(Ham.iloc[loc])        \n",
    "        \n",
    "for loc in range(len(Spam)):\n",
    "    if(loc < 0.8*S):\n",
    "        trainingset = trainingset.append(Spam.iloc[loc])\n",
    "    else:\n",
    "        testingset = testingset.append(Spam.iloc[loc])\n",
    "        \n",
    "y_train = trainingset[\"CLASS\"]\n",
    "x_train = trainingset[\"CONTENT\"]\n",
    "\n",
    "y_test = testingset[\"CLASS\"]\n",
    "x_test = testingset[\"CONTENT\"]\n",
    "\n",
    "x_train_list = x_train.tolist()\n",
    "v = TfidfVectorizer(input = x_train_list)\n",
    "\n",
    "train_features_set = v.fit_transform(x_train.values).toarray()\n",
    "test_features_set = v.transform(x_test.values).toarray()\n",
    "\n",
    "GNB = GaussianNB().fit(train_features_set, y_train)\n",
    "\n",
    "x_train_pred = GNB.predict(train_features_set)\n",
    "x_test_pred = GNB.predict(test_features_set)"
   ]
  },
  {
   "cell_type": "code",
   "execution_count": 246,
   "id": "7a10bf01",
   "metadata": {},
   "outputs": [
    {
     "name": "stdout",
     "output_type": "stream",
     "text": [
      "Train set confusion matrix\n",
      "[[163   0]\n",
      " [  1 195]]\n",
      "Training Data Accuracy: 0.9972144846796658\n",
      "Training Data Precision: [0.99390244 1.        ]\n",
      "Training Data Recall: [1.         0.99489796]\n",
      "Training Data F1-score: [0.9969419  0.99744246]\n"
     ]
    },
    {
     "data": {
      "image/png": "[encoded data removed]",
      "text/plain": [
       "<Figure size 432x288 with 1 Axes>"
      ]
     },
     "metadata": {
      "needs_background": "light"
     },
     "output_type": "display_data"
    },
    {
     "name": "stdout",
     "output_type": "stream",
     "text": [
      "Training Data AUC: 0.9974489795918368\n"
     ]
    }
   ],
   "source": [
    "#confusion matrix\n",
    "train_confusion_matrix = confusion_matrix(y_train, x_train_pred)\n",
    "test_confusion_matrix = confusion_matrix(y_test, x_test_pred)\n",
    "print(\"Train set confusion matrix\")\n",
    "print(train_confusion_matrix)\n",
    "\n",
    "#Precision, Recall, F1 Score\n",
    "precision, recall, fscore, _ = precision_recall_fscore_support(y_train, x_train_pred)\n",
    "accuracy = accuracy_score(y_train, x_train_pred)\n",
    "\n",
    "print(\"Training Data Accuracy: \" + str(accuracy))\n",
    "print(\"Training Data Precision: \" + str(precision))\n",
    "print(\"Training Data Recall: \" + str(recall))\n",
    "print(\"Training Data F1-score: \" + str(fscore))\n",
    "\n",
    "#ROC\n",
    "probs = GNB.predict_proba(train_features_set)\n",
    "train_probs = probs[::,1]\n",
    "pr, tpr, threshold = roc_curve(y_train, train_probs, pos_label=1)\n",
    "plt.plot(pr, tpr)\n",
    "plt.title(\"ROC - Training Data\")\n",
    "plt.xlabel(\"False Positive Rate\")\n",
    "plt.ylabel(\"True Positive Rate\")\n",
    "plt.show()\n",
    "\n",
    "#AUC\n",
    "auc = roc_auc_score(y_train, train_probs)\n",
    "print(\"Training Data AUC: \" + str(auc))"
   ]
  },
  {
   "cell_type": "code",
   "execution_count": 247,
   "id": "ce51b819",
   "metadata": {},
   "outputs": [
    {
     "name": "stdout",
     "output_type": "stream",
     "text": [
      "Test set confusion matrix\n",
      "[[34  6]\n",
      " [ 1 48]]\n",
      "Testing Data Accuracy: 0.9213483146067416\n",
      "Testing Data Precision: [0.97142857 0.88888889]\n",
      "Testing Data Recall: [0.85       0.97959184]\n",
      "Testing Data F1-score: [0.90666667 0.93203883]\n"
     ]
    },
    {
     "data": {
      "image/png": "[encoded data removed]",
      "text/plain": [
       "<Figure size 432x288 with 1 Axes>"
      ]
     },
     "metadata": {
      "needs_background": "light"
     },
     "output_type": "display_data"
    },
    {
     "name": "stdout",
     "output_type": "stream",
     "text": [
      "Testing Data AUC: 0.9147959183673469\n"
     ]
    }
   ],
   "source": [
    "#confusion matrix\n",
    "train_confusion_matrix = confusion_matrix(y_train, x_train_pred)\n",
    "test_confusion_matrix = confusion_matrix(y_test, x_test_pred)\n",
    "print(\"Test set confusion matrix\")\n",
    "print(test_confusion_matrix)\n",
    "\n",
    "#Precision, Recall, F1 Score\n",
    "precision, recall, fscore, _ = precision_recall_fscore_support(y_test, x_test_pred)\n",
    "accuracy = accuracy_score(y_test, x_test_pred)\n",
    "\n",
    "print(\"Testing Data Accuracy: \" + str(accuracy))\n",
    "print(\"Testing Data Precision: \" + str(precision))\n",
    "print(\"Testing Data Recall: \" + str(recall))\n",
    "print(\"Testing Data F1-score: \" + str(fscore))\n",
    "\n",
    "#ROC\n",
    "probs = GNB.predict_proba(test_features_set)\n",
    "test_probs = probs[::,1]\n",
    "pr, tpr, threshold = roc_curve(y_test, test_probs, pos_label=1)\n",
    "plt.plot(pr, tpr)\n",
    "plt.title(\"ROC - Testing Data\")\n",
    "plt.xlabel(\"False Positive Rate\")\n",
    "plt.ylabel(\"True Positive Rate\")\n",
    "plt.show()\n",
    "\n",
    "#AUC\n",
    "auc = roc_auc_score(y_test, test_probs)\n",
    "print(\"Testing Data AUC: \" + str(auc))"
   ]
  },
  {
   "cell_type": "markdown",
   "id": "4827800b",
   "metadata": {},
   "source": [
    "# Using Multinomial Priors"
   ]
  },
  {
   "cell_type": "code",
   "execution_count": 248,
   "id": "5c8d340b",
   "metadata": {},
   "outputs": [],
   "source": [
    "df = pd.read_csv(\"Youtube04-Eminem.csv\")\n",
    "\n",
    "Ham = df[df[\"CLASS\"] == 0]\n",
    "Spam = df[df[\"CLASS\"] == 1]\n",
    "\n",
    "testingset = pd.DataFrame()\n",
    "trainingset = pd.DataFrame()\n",
    "\n",
    "for loc in range(len(Ham)):\n",
    "    if(loc < 0.8*H):\n",
    "        trainingset = trainingset.append(Ham.iloc[loc])\n",
    "    else:\n",
    "        testingset = testingset.append(Ham.iloc[loc])        \n",
    "        \n",
    "for loc in range(len(Spam)):\n",
    "    if(loc < 0.8*S):\n",
    "        trainingset = trainingset.append(Spam.iloc[loc])\n",
    "    else:\n",
    "        testingset = testingset.append(Spam.iloc[loc])\n",
    "        \n",
    "y_train = trainingset[\"CLASS\"]\n",
    "x_train = trainingset[\"CONTENT\"]\n",
    "\n",
    "y_test = testingset[\"CLASS\"]\n",
    "x_test = testingset[\"CONTENT\"]\n",
    "\n",
    "x_train_list = x_train.tolist()\n",
    "v = TfidfVectorizer(input = x_train_list)\n",
    "\n",
    "train_features_set = v.fit_transform(x_train.values).toarray()\n",
    "test_features_set = v.transform(x_test.values).toarray()\n",
    "\n",
    "MNB = MultinomialNB(fit_prior = True).fit(train_features_set, y_train)\n",
    "\n",
    "x_train_pred = MNB.predict(train_features_set)\n",
    "x_test_pred = MNB.predict(test_features_set)"
   ]
  },
  {
   "cell_type": "code",
   "execution_count": 249,
   "id": "45b205ec",
   "metadata": {},
   "outputs": [
    {
     "name": "stdout",
     "output_type": "stream",
     "text": [
      "Train set confusion matrix\n",
      "[[156   7]\n",
      " [  1 195]]\n",
      "Training Data Accuracy: 0.9777158774373259\n",
      "Training Data Precision: [0.99363057 0.96534653]\n",
      "Training Data Recall: [0.95705521 0.99489796]\n",
      "Training Data F1-score: [0.975     0.9798995]\n"
     ]
    },
    {
     "data": {
      "image/png": "[encoded data removed]",
      "text/plain": [
       "<Figure size 432x288 with 1 Axes>"
      ]
     },
     "metadata": {
      "needs_background": "light"
     },
     "output_type": "display_data"
    },
    {
     "name": "stdout",
     "output_type": "stream",
     "text": [
      "Training Data AUC: 0.9990922749467885\n"
     ]
    }
   ],
   "source": [
    "#confusion matrix\n",
    "train_confusion_matrix = confusion_matrix(y_train, x_train_pred)\n",
    "test_confusion_matrix = confusion_matrix(y_test, x_test_pred)\n",
    "print(\"Train set confusion matrix\")\n",
    "print(train_confusion_matrix)\n",
    "\n",
    "#Precision, Recall, F1 Score\n",
    "precision, recall, fscore, _ = precision_recall_fscore_support(y_train, x_train_pred)\n",
    "accuracy = accuracy_score(y_train, x_train_pred)\n",
    "\n",
    "print(\"Training Data Accuracy: \" + str(accuracy))\n",
    "print(\"Training Data Precision: \" + str(precision))\n",
    "print(\"Training Data Recall: \" + str(recall))\n",
    "print(\"Training Data F1-score: \" + str(fscore))\n",
    "\n",
    "#ROC\n",
    "probs = MNB.predict_proba(train_features_set)\n",
    "train_probs = probs[::,1]\n",
    "pr, tpr, threshold = roc_curve(y_train, train_probs, pos_label=1)\n",
    "plt.plot(pr, tpr)\n",
    "plt.title(\"ROC - Training Data\")\n",
    "plt.xlabel(\"False Positive Rate\")\n",
    "plt.ylabel(\"True Positive Rate\")\n",
    "plt.show()\n",
    "\n",
    "#AUC\n",
    "auc = roc_auc_score(y_train, train_probs)\n",
    "print(\"Training Data AUC: \" + str(auc))"
   ]
  },
  {
   "cell_type": "code",
   "execution_count": 250,
   "id": "170a3252",
   "metadata": {},
   "outputs": [
    {
     "name": "stdout",
     "output_type": "stream",
     "text": [
      "Test set confusion matrix\n",
      "[[31  9]\n",
      " [ 0 49]]\n",
      "Testing Data Accuracy: 0.898876404494382\n",
      "Testing Data Precision: [1.         0.84482759]\n",
      "Testing Data Recall: [0.775 1.   ]\n",
      "Testing Data F1-score: [0.87323944 0.91588785]\n"
     ]
    },
    {
     "data": {
      "image/png": "[encoded data removed]",
      "text/plain": [
       "<Figure size 432x288 with 1 Axes>"
      ]
     },
     "metadata": {
      "needs_background": "light"
     },
     "output_type": "display_data"
    },
    {
     "name": "stdout",
     "output_type": "stream",
     "text": [
      "Testing Data AUC: 0.9979591836734695\n"
     ]
    }
   ],
   "source": [
    "#confusion matrix\n",
    "train_confusion_matrix = confusion_matrix(y_train, x_train_pred)\n",
    "test_confusion_matrix = confusion_matrix(y_test, x_test_pred)\n",
    "print(\"Test set confusion matrix\")\n",
    "print(test_confusion_matrix)\n",
    "\n",
    "#Precision, Recall, F1 Score\n",
    "precision, recall, fscore, _ = precision_recall_fscore_support(y_test, x_test_pred)\n",
    "accuracy = accuracy_score(y_test, x_test_pred)\n",
    "\n",
    "print(\"Testing Data Accuracy: \" + str(accuracy))\n",
    "print(\"Testing Data Precision: \" + str(precision))\n",
    "print(\"Testing Data Recall: \" + str(recall))\n",
    "print(\"Testing Data F1-score: \" + str(fscore))\n",
    "\n",
    "#ROC\n",
    "probs = MNB.predict_proba(test_features_set)\n",
    "test_probs = probs[::,1]\n",
    "pr, tpr, threshold = roc_curve(y_test, test_probs, pos_label=1)\n",
    "plt.plot(pr, tpr)\n",
    "plt.title(\"ROC - Testing Data\")\n",
    "plt.xlabel(\"False Positive Rate\")\n",
    "plt.ylabel(\"True Positive Rate\")\n",
    "plt.show()\n",
    "\n",
    "#AUC\n",
    "auc = roc_auc_score(y_test, test_probs)\n",
    "print(\"Testing Data AUC: \" + str(auc))"
   ]
  },
  {
   "cell_type": "markdown",
   "id": "428e76dc",
   "metadata": {},
   "source": [
    "# Shakira Data Set"
   ]
  },
  {
   "cell_type": "code",
   "execution_count": 251,
   "id": "95fe5b2e",
   "metadata": {},
   "outputs": [],
   "source": [
    "df = pd.read_csv(\"Youtube05-Shakira.csv\")\n",
    "Ham = df[df[\"CLASS\"] == 0]\n",
    "H = len(Ham.index)\n",
    "Spam = df[df[\"CLASS\"] == 1]\n",
    "S = len(Spam.index)\n",
    "\n",
    "testingset = pd.DataFrame()\n",
    "trainingset = pd.DataFrame()\n",
    "for loc in range(len(Ham)):\n",
    "    if(loc < 0.8*H):\n",
    "        trainingset = trainingset.append(Ham.iloc[loc])\n",
    "    else:\n",
    "        testingset = testingset.append(Ham.iloc[loc])        \n",
    "        \n",
    "for loc in range(len(Spam)):\n",
    "    if(loc < 0.8*S):\n",
    "        trainingset = trainingset.append(Spam.iloc[loc])\n",
    "    else:\n",
    "        testingset = testingset.append(Spam.iloc[loc])\n",
    "        \n",
    "corpus = df[\"CONTENT\"]\n",
    "cv = CountVectorizer(binary = True)\n",
    "cv.fit_transform(corpus)\n",
    "\n",
    "corpus_set = cv.transform(corpus)\n",
    "\n",
    "train_features_set = cv.transform(trainingset[\"CONTENT\"].values)\n",
    "test_features_set = cv.transform(testingset[\"CONTENT\"].values)\n",
    "\n",
    "tf_transformer = TfidfTransformer(use_idf=True).fit(train_features_set)\n",
    "X_train_tfidf = tf_transformer.transform(train_features_set)"
   ]
  },
  {
   "cell_type": "code",
   "execution_count": 252,
   "id": "bdb077a5",
   "metadata": {},
   "outputs": [
    {
     "name": "stdout",
     "output_type": "stream",
     "text": [
      "The highest score is 0.9426553672316385\n",
      "The best lambda to use it 0.1\n",
      "Test set confusion matrix\n",
      "[[36  3]\n",
      " [ 1 33]]\n",
      "Testing Data Accuracy: 0.9452054794520548\n",
      "Testing Data Precision: [0.97297297 0.91666667]\n",
      "Testing Data Recall: [0.92307692 0.97058824]\n",
      "Testing Data F1-score: [0.94736842 0.94285714]\n"
     ]
    },
    {
     "data": {
      "image/png": "[encoded data removed]",
      "text/plain": [
       "<Figure size 432x288 with 1 Axes>"
      ]
     },
     "metadata": {
      "needs_background": "light"
     },
     "output_type": "display_data"
    },
    {
     "name": "stdout",
     "output_type": "stream",
     "text": [
      "Testing Data AUC: 0.9947209653092006\n"
     ]
    }
   ],
   "source": [
    "#L2 Penalized LR\n",
    "y_train = trainingset[\"CLASS\"]\n",
    "x_train = train_features_set\n",
    "\n",
    "y_test = testingset[\"CLASS\"]\n",
    "x_test = test_features_set\n",
    "\n",
    "log10lambda = [-5, -4, -3, -2, -1, 0, 1, 2, 3, 4, 5]\n",
    "lambdas = []\n",
    "lambda_scores = []\n",
    "\n",
    "for i in log10lambda:\n",
    "    currlam = pow(10,i)\n",
    "    KF = KFold(n_splits = 5, random_state = 42, shuffle = True)\n",
    "    LR = LogisticRegression(C = 1/currlam, penalty = \"l2\", max_iter=4000)\n",
    "    scores = cross_val_score(LR, x_train, y_train, scoring='accuracy', cv=KF)\n",
    "    lambdas.append(currlam)\n",
    "    lambda_scores.append(mean(scores))\n",
    "    \n",
    "print(\"The highest score is \" + str(max(lambda_scores)))\n",
    "location = lambda_scores.index(max(lambda_scores))\n",
    "print(\"The best lambda to use it \" + str(lambdas[location]))\n",
    "lambda_star = lambdas[location]\n",
    "\n",
    "y_train = trainingset[\"CLASS\"]\n",
    "x_train = trainingset[\"CONTENT\"]\n",
    "\n",
    "y_test = testingset[\"CLASS\"]\n",
    "x_test = testingset[\"CONTENT\"]\n",
    "\n",
    "x_train_list = x_train.tolist()\n",
    "v = TfidfVectorizer(input = x_train_list)\n",
    "\n",
    "train_features_set = v.fit_transform(x_train.values)\n",
    "test_features_set = v.transform(x_test.values)\n",
    "\n",
    "LR = LogisticRegression(C = 1/lambda_star, penalty = \"l2\", solver = \"liblinear\", max_iter=4000).fit(train_features_set, y_train)\n",
    "\n",
    "x_train_pred = LR.predict(train_features_set)\n",
    "x_test_pred = LR.predict(test_features_set)\n",
    "\n",
    "#confusion matrix\n",
    "train_confusion_matrix = confusion_matrix(y_train, x_train_pred)\n",
    "test_confusion_matrix = confusion_matrix(y_test, x_test_pred)\n",
    "print(\"Test set confusion matrix\")\n",
    "print(test_confusion_matrix)\n",
    "\n",
    "#Precision, Recall, F1 Score\n",
    "precision, recall, fscore, _ = precision_recall_fscore_support(y_test, x_test_pred)\n",
    "accuracy = accuracy_score(y_test, x_test_pred)\n",
    "\n",
    "print(\"Testing Data Accuracy: \" + str(accuracy))\n",
    "print(\"Testing Data Precision: \" + str(precision))\n",
    "print(\"Testing Data Recall: \" + str(recall))\n",
    "print(\"Testing Data F1-score: \" + str(fscore))\n",
    "\n",
    "#ROC\n",
    "probs = LR.predict_proba(test_features_set)\n",
    "test_probs = probs[::,1]\n",
    "pr, tpr, threshold = roc_curve(y_test, test_probs, pos_label=1)\n",
    "plt.plot(pr, tpr)\n",
    "plt.title(\"ROC - Testing Data\")\n",
    "plt.xlabel(\"False Positive Rate\")\n",
    "plt.ylabel(\"True Positive Rate\")\n",
    "plt.show()\n",
    "\n",
    "#AUC\n",
    "auc = roc_auc_score(y_test, test_probs)\n",
    "print(\"Testing Data AUC: \" + str(auc))"
   ]
  },
  {
   "cell_type": "code",
   "execution_count": 253,
   "id": "ae0d405a",
   "metadata": {},
   "outputs": [
    {
     "name": "stdout",
     "output_type": "stream",
     "text": [
      "The highest score is 0.9425988700564971\n",
      "The best lambda to use it 0.0001\n",
      "Test set confusion matrix\n",
      "[[37  2]\n",
      " [ 1 33]]\n",
      "Testing Data Accuracy: 0.958904109589041\n",
      "Testing Data Precision: [0.97368421 0.94285714]\n",
      "Testing Data Recall: [0.94871795 0.97058824]\n",
      "Testing Data F1-score: [0.96103896 0.95652174]\n"
     ]
    },
    {
     "data": {
      "image/png": "[encoded data removed]",
      "text/plain": [
       "<Figure size 432x288 with 1 Axes>"
      ]
     },
     "metadata": {
      "needs_background": "light"
     },
     "output_type": "display_data"
    },
    {
     "name": "stdout",
     "output_type": "stream",
     "text": [
      "Testing Data AUC: 0.995475113122172\n"
     ]
    }
   ],
   "source": [
    "#L1 Penalized\n",
    "y_train = trainingset[\"CLASS\"]\n",
    "x_train = train_features_set\n",
    "\n",
    "y_test = testingset[\"CLASS\"]\n",
    "x_test = test_features_set\n",
    "\n",
    "log10lambda = [-5, -4, -3, -2, -1, 0, 1, 2, 3, 4, 5]\n",
    "lambdas = []\n",
    "lambda_scores = []\n",
    "\n",
    "for i in log10lambda:\n",
    "    currlam = pow(10,i)\n",
    "    KF = KFold(n_splits = 5, random_state = 42, shuffle = True)\n",
    "    LR = LogisticRegression(C = 1/currlam, penalty = \"l1\", solver = \"liblinear\", max_iter=4000)\n",
    "    scores = cross_val_score(LR, x_train, y_train, scoring='accuracy', cv=KF)\n",
    "    lambdas.append(currlam)\n",
    "    lambda_scores.append(mean(scores))\n",
    "    \n",
    "print(\"The highest score is \" + str(max(lambda_scores)))\n",
    "location = lambda_scores.index(max(lambda_scores))\n",
    "print(\"The best lambda to use it \" + str(lambdas[location]))\n",
    "lambda_star = lambdas[location]\n",
    "\n",
    "y_train = trainingset[\"CLASS\"]\n",
    "x_train = trainingset[\"CONTENT\"]\n",
    "\n",
    "y_test = testingset[\"CLASS\"]\n",
    "x_test = testingset[\"CONTENT\"]\n",
    "\n",
    "x_train_list = x_train.tolist()\n",
    "v = TfidfVectorizer(input = x_train_list)\n",
    "\n",
    "train_features_set = v.fit_transform(x_train.values)\n",
    "test_features_set = v.transform(x_test.values)\n",
    "\n",
    "LR = LogisticRegression(C = 1/lambda_star, penalty = \"l1\", solver = \"liblinear\", max_iter=4000).fit(train_features_set, y_train)\n",
    "\n",
    "x_train_pred = LR.predict(train_features_set)\n",
    "x_test_pred = LR.predict(test_features_set)\n",
    "\n",
    "#confusion matrix\n",
    "train_confusion_matrix = confusion_matrix(y_train, x_train_pred)\n",
    "test_confusion_matrix = confusion_matrix(y_test, x_test_pred)\n",
    "print(\"Test set confusion matrix\")\n",
    "print(test_confusion_matrix)\n",
    "\n",
    "#Precision, Recall, F1 Score\n",
    "precision, recall, fscore, _ = precision_recall_fscore_support(y_test, x_test_pred)\n",
    "accuracy = accuracy_score(y_test, x_test_pred)\n",
    "\n",
    "print(\"Testing Data Accuracy: \" + str(accuracy))\n",
    "print(\"Testing Data Precision: \" + str(precision))\n",
    "print(\"Testing Data Recall: \" + str(recall))\n",
    "print(\"Testing Data F1-score: \" + str(fscore))\n",
    "\n",
    "#ROC\n",
    "probs = LR.predict_proba(test_features_set)\n",
    "test_probs = probs[::,1]\n",
    "pr, tpr, threshold = roc_curve(y_test, test_probs, pos_label=1)\n",
    "plt.plot(pr, tpr)\n",
    "plt.title(\"ROC - Testing Data\")\n",
    "plt.xlabel(\"False Positive Rate\")\n",
    "plt.ylabel(\"True Positive Rate\")\n",
    "plt.show()\n",
    "\n",
    "#AUC\n",
    "auc = roc_auc_score(y_test, test_probs)\n",
    "print(\"Testing Data AUC: \" + str(auc))"
   ]
  },
  {
   "cell_type": "code",
   "execution_count": 254,
   "id": "bd3a503d",
   "metadata": {},
   "outputs": [
    {
     "name": "stdout",
     "output_type": "stream",
     "text": [
      "Test set confusion matrix\n",
      "[[32  7]\n",
      " [ 0 34]]\n",
      "Testing Data Accuracy: 0.9041095890410958\n",
      "Testing Data Precision: [1.         0.82926829]\n",
      "Testing Data Recall: [0.82051282 1.        ]\n",
      "Testing Data F1-score: [0.90140845 0.90666667]\n"
     ]
    },
    {
     "data": {
      "image/png": "[encoded data removed]",
      "text/plain": [
       "<Figure size 432x288 with 1 Axes>"
      ]
     },
     "metadata": {
      "needs_background": "light"
     },
     "output_type": "display_data"
    },
    {
     "name": "stdout",
     "output_type": "stream",
     "text": [
      "Testing Data AUC: 0.9102564102564102\n"
     ]
    }
   ],
   "source": [
    "#NB-Gaussian\n",
    "y_train = trainingset[\"CLASS\"]\n",
    "x_train = trainingset[\"CONTENT\"]\n",
    "\n",
    "y_test = testingset[\"CLASS\"]\n",
    "x_test = testingset[\"CONTENT\"]\n",
    "\n",
    "x_train_list = x_train.tolist()\n",
    "v = TfidfVectorizer(input = x_train_list)\n",
    "\n",
    "train_features_set = v.fit_transform(x_train.values).toarray()\n",
    "test_features_set = v.transform(x_test.values).toarray()\n",
    "\n",
    "GNB = GaussianNB().fit(train_features_set, y_train)\n",
    "\n",
    "x_train_pred = GNB.predict(train_features_set)\n",
    "x_test_pred = GNB.predict(test_features_set)\n",
    "\n",
    "#confusion matrix\n",
    "train_confusion_matrix = confusion_matrix(y_train, x_train_pred)\n",
    "test_confusion_matrix = confusion_matrix(y_test, x_test_pred)\n",
    "print(\"Test set confusion matrix\")\n",
    "print(test_confusion_matrix)\n",
    "\n",
    "#Precision, Recall, F1 Score\n",
    "precision, recall, fscore, _ = precision_recall_fscore_support(y_test, x_test_pred)\n",
    "accuracy = accuracy_score(y_test, x_test_pred)\n",
    "\n",
    "print(\"Testing Data Accuracy: \" + str(accuracy))\n",
    "print(\"Testing Data Precision: \" + str(precision))\n",
    "print(\"Testing Data Recall: \" + str(recall))\n",
    "print(\"Testing Data F1-score: \" + str(fscore))\n",
    "\n",
    "#ROC\n",
    "probs = GNB.predict_proba(test_features_set)\n",
    "test_probs = probs[::,1]\n",
    "pr, tpr, threshold = roc_curve(y_test, test_probs, pos_label=1)\n",
    "plt.plot(pr, tpr)\n",
    "plt.title(\"ROC - Testing Data\")\n",
    "plt.xlabel(\"False Positive Rate\")\n",
    "plt.ylabel(\"True Positive Rate\")\n",
    "plt.show()\n",
    "\n",
    "#AUC\n",
    "auc = roc_auc_score(y_test, test_probs)\n",
    "print(\"Testing Data AUC: \" + str(auc))"
   ]
  },
  {
   "cell_type": "code",
   "execution_count": 256,
   "id": "18d29478",
   "metadata": {},
   "outputs": [
    {
     "name": "stdout",
     "output_type": "stream",
     "text": [
      "Test set confusion matrix\n",
      "[[36  3]\n",
      " [ 1 33]]\n",
      "Testing Data Accuracy: 0.9452054794520548\n",
      "Testing Data Precision: [0.97297297 0.91666667]\n",
      "Testing Data Recall: [0.92307692 0.97058824]\n",
      "Testing Data F1-score: [0.94736842 0.94285714]\n"
     ]
    },
    {
     "data": {
      "image/png": "[encoded data removed]",
      "text/plain": [
       "<Figure size 432x288 with 1 Axes>"
      ]
     },
     "metadata": {
      "needs_background": "light"
     },
     "output_type": "display_data"
    },
    {
     "name": "stdout",
     "output_type": "stream",
     "text": [
      "Testing Data AUC: 0.9947209653092006\n"
     ]
    }
   ],
   "source": [
    "#NB-Multinomial\n",
    "y_train = trainingset[\"CLASS\"]\n",
    "x_train = trainingset[\"CONTENT\"]\n",
    "\n",
    "y_test = testingset[\"CLASS\"]\n",
    "x_test = testingset[\"CONTENT\"]\n",
    "\n",
    "x_train_list = x_train.tolist()\n",
    "v = TfidfVectorizer(input = x_train_list)\n",
    "\n",
    "train_features_set = v.fit_transform(x_train.values).toarray()\n",
    "test_features_set = v.transform(x_test.values).toarray()\n",
    "\n",
    "MNB = MultinomialNB(fit_prior = True).fit(train_features_set, y_train)\n",
    "\n",
    "x_train_pred = MNB.predict(train_features_set)\n",
    "x_test_pred = MNB.predict(test_features_set)\n",
    "\n",
    "#confusion matrix\n",
    "train_confusion_matrix = confusion_matrix(y_train, x_train_pred)\n",
    "test_confusion_matrix = confusion_matrix(y_test, x_test_pred)\n",
    "print(\"Test set confusion matrix\")\n",
    "print(test_confusion_matrix)\n",
    "\n",
    "#Precision, Recall, F1 Score\n",
    "precision, recall, fscore, _ = precision_recall_fscore_support(y_test, x_test_pred)\n",
    "accuracy = accuracy_score(y_test, x_test_pred)\n",
    "\n",
    "print(\"Testing Data Accuracy: \" + str(accuracy))\n",
    "print(\"Testing Data Precision: \" + str(precision))\n",
    "print(\"Testing Data Recall: \" + str(recall))\n",
    "print(\"Testing Data F1-score: \" + str(fscore))\n",
    "\n",
    "#ROC\n",
    "probs = MNB.predict_proba(test_features_set)\n",
    "test_probs = probs[::,1]\n",
    "pr, tpr, threshold = roc_curve(y_test, test_probs, pos_label=1)\n",
    "plt.plot(pr, tpr)\n",
    "plt.title(\"ROC - Testing Data\")\n",
    "plt.xlabel(\"False Positive Rate\")\n",
    "plt.ylabel(\"True Positive Rate\")\n",
    "plt.show()\n",
    "\n",
    "#AUC\n",
    "auc = roc_auc_score(y_test, test_probs)\n",
    "print(\"Testing Data AUC: \" + str(auc))"
   ]
  },
  {
   "cell_type": "markdown",
   "id": "2b7ba10c",
   "metadata": {},
   "source": [
    "# LMFAO Dataset"
   ]
  },
  {
   "cell_type": "code",
   "execution_count": 257,
   "id": "45012ba2",
   "metadata": {},
   "outputs": [],
   "source": [
    "df = pd.read_csv(\"Youtube03-LMFAO.csv\")\n",
    "Ham = df[df[\"CLASS\"] == 0]\n",
    "H = len(Ham.index)\n",
    "Spam = df[df[\"CLASS\"] == 1]\n",
    "S = len(Spam.index)\n",
    "\n",
    "testingset = pd.DataFrame()\n",
    "trainingset = pd.DataFrame()\n",
    "for loc in range(len(Ham)):\n",
    "    if(loc < 0.8*H):\n",
    "        trainingset = trainingset.append(Ham.iloc[loc])\n",
    "    else:\n",
    "        testingset = testingset.append(Ham.iloc[loc])        \n",
    "        \n",
    "for loc in range(len(Spam)):\n",
    "    if(loc < 0.8*S):\n",
    "        trainingset = trainingset.append(Spam.iloc[loc])\n",
    "    else:\n",
    "        testingset = testingset.append(Spam.iloc[loc])\n",
    "        \n",
    "corpus = df[\"CONTENT\"]\n",
    "cv = CountVectorizer(binary = True)\n",
    "cv.fit_transform(corpus)\n",
    "\n",
    "corpus_set = cv.transform(corpus)\n",
    "\n",
    "train_features_set = cv.transform(trainingset[\"CONTENT\"].values)\n",
    "test_features_set = cv.transform(testingset[\"CONTENT\"].values)\n",
    "\n",
    "tf_transformer = TfidfTransformer(use_idf=True).fit(train_features_set)\n",
    "X_train_tfidf = tf_transformer.transform(train_features_set)"
   ]
  },
  {
   "cell_type": "code",
   "execution_count": 258,
   "id": "9d2c5bbf",
   "metadata": {},
   "outputs": [
    {
     "name": "stdout",
     "output_type": "stream",
     "text": [
      "The highest score is 0.9573038229376257\n",
      "The best lambda to use it 1e-05\n",
      "Test set confusion matrix\n",
      "[[38  2]\n",
      " [ 5 42]]\n",
      "Testing Data Accuracy: 0.9195402298850575\n",
      "Testing Data Precision: [0.88372093 0.95454545]\n",
      "Testing Data Recall: [0.95       0.89361702]\n",
      "Testing Data F1-score: [0.91566265 0.92307692]\n"
     ]
    },
    {
     "data": {
      "image/png": "[encoded data removed]",
      "text/plain": [
       "<Figure size 432x288 with 1 Axes>"
      ]
     },
     "metadata": {
      "needs_background": "light"
     },
     "output_type": "display_data"
    },
    {
     "name": "stdout",
     "output_type": "stream",
     "text": [
      "Testing Data AUC: 0.9765957446808511\n"
     ]
    }
   ],
   "source": [
    "#L2 Penalized LR\n",
    "y_train = trainingset[\"CLASS\"]\n",
    "x_train = train_features_set\n",
    "\n",
    "y_test = testingset[\"CLASS\"]\n",
    "x_test = test_features_set\n",
    "\n",
    "log10lambda = [-5, -4, -3, -2, -1, 0, 1, 2, 3, 4, 5]\n",
    "lambdas = []\n",
    "lambda_scores = []\n",
    "\n",
    "for i in log10lambda:\n",
    "    currlam = pow(10,i)\n",
    "    KF = KFold(n_splits = 5, random_state = 42, shuffle = True)\n",
    "    LR = LogisticRegression(C = 1/currlam, penalty = \"l2\", max_iter=4000)\n",
    "    scores = cross_val_score(LR, x_train, y_train, scoring='accuracy', cv=KF)\n",
    "    lambdas.append(currlam)\n",
    "    lambda_scores.append(mean(scores))\n",
    "    \n",
    "print(\"The highest score is \" + str(max(lambda_scores)))\n",
    "location = lambda_scores.index(max(lambda_scores))\n",
    "print(\"The best lambda to use it \" + str(lambdas[location]))\n",
    "lambda_star = lambdas[location]\n",
    "\n",
    "y_train = trainingset[\"CLASS\"]\n",
    "x_train = trainingset[\"CONTENT\"]\n",
    "\n",
    "y_test = testingset[\"CLASS\"]\n",
    "x_test = testingset[\"CONTENT\"]\n",
    "\n",
    "x_train_list = x_train.tolist()\n",
    "v = TfidfVectorizer(input = x_train_list)\n",
    "\n",
    "train_features_set = v.fit_transform(x_train.values)\n",
    "test_features_set = v.transform(x_test.values)\n",
    "\n",
    "LR = LogisticRegression(C = 1/lambda_star, penalty = \"l2\", solver = \"liblinear\", max_iter=4000).fit(train_features_set, y_train)\n",
    "\n",
    "x_train_pred = LR.predict(train_features_set)\n",
    "x_test_pred = LR.predict(test_features_set)\n",
    "\n",
    "#confusion matrix\n",
    "train_confusion_matrix = confusion_matrix(y_train, x_train_pred)\n",
    "test_confusion_matrix = confusion_matrix(y_test, x_test_pred)\n",
    "print(\"Test set confusion matrix\")\n",
    "print(test_confusion_matrix)\n",
    "\n",
    "#Precision, Recall, F1 Score\n",
    "precision, recall, fscore, _ = precision_recall_fscore_support(y_test, x_test_pred)\n",
    "accuracy = accuracy_score(y_test, x_test_pred)\n",
    "\n",
    "print(\"Testing Data Accuracy: \" + str(accuracy))\n",
    "print(\"Testing Data Precision: \" + str(precision))\n",
    "print(\"Testing Data Recall: \" + str(recall))\n",
    "print(\"Testing Data F1-score: \" + str(fscore))\n",
    "\n",
    "#ROC\n",
    "probs = LR.predict_proba(test_features_set)\n",
    "test_probs = probs[::,1]\n",
    "pr, tpr, threshold = roc_curve(y_test, test_probs, pos_label=1)\n",
    "plt.plot(pr, tpr)\n",
    "plt.title(\"ROC - Testing Data\")\n",
    "plt.xlabel(\"False Positive Rate\")\n",
    "plt.ylabel(\"True Positive Rate\")\n",
    "plt.show()\n",
    "\n",
    "#AUC\n",
    "auc = roc_auc_score(y_test, test_probs)\n",
    "print(\"Testing Data AUC: \" + str(auc))"
   ]
  },
  {
   "cell_type": "code",
   "execution_count": 259,
   "id": "54bb56a2",
   "metadata": {},
   "outputs": [
    {
     "name": "stdout",
     "output_type": "stream",
     "text": [
      "The highest score is 0.9344466800804829\n",
      "The best lambda to use it 0.0001\n",
      "Test set confusion matrix\n",
      "[[39  1]\n",
      " [ 5 42]]\n",
      "Testing Data Accuracy: 0.9310344827586207\n",
      "Testing Data Precision: [0.88636364 0.97674419]\n",
      "Testing Data Recall: [0.975      0.89361702]\n",
      "Testing Data F1-score: [0.92857143 0.93333333]\n"
     ]
    },
    {
     "name": "stderr",
     "output_type": "stream",
     "text": [
      "C:\\Users\\Victor Hui\\anaconda3\\lib\\site-packages\\sklearn\\svm\\_base.py:985: ConvergenceWarning: Liblinear failed to converge, increase the number of iterations.\n",
      "  warnings.warn(\"Liblinear failed to converge, increase \"\n"
     ]
    },
    {
     "data": {
      "image/png": "[encoded data removed]",
      "text/plain": [
       "<Figure size 432x288 with 1 Axes>"
      ]
     },
     "metadata": {
      "needs_background": "light"
     },
     "output_type": "display_data"
    },
    {
     "name": "stdout",
     "output_type": "stream",
     "text": [
      "Testing Data AUC: 0.9824468085106383\n"
     ]
    }
   ],
   "source": [
    "#L1 Penalized\n",
    "y_train = trainingset[\"CLASS\"]\n",
    "x_train = train_features_set\n",
    "\n",
    "y_test = testingset[\"CLASS\"]\n",
    "x_test = test_features_set\n",
    "\n",
    "log10lambda = [-5, -4, -3, -2, -1, 0, 1, 2, 3, 4, 5]\n",
    "lambdas = []\n",
    "lambda_scores = []\n",
    "\n",
    "for i in log10lambda:\n",
    "    currlam = pow(10,i)\n",
    "    KF = KFold(n_splits = 5, random_state = 42, shuffle = True)\n",
    "    LR = LogisticRegression(C = 1/currlam, penalty = \"l1\", solver = \"liblinear\", max_iter=4000)\n",
    "    scores = cross_val_score(LR, x_train, y_train, scoring='accuracy', cv=KF)\n",
    "    lambdas.append(currlam)\n",
    "    lambda_scores.append(mean(scores))\n",
    "    \n",
    "print(\"The highest score is \" + str(max(lambda_scores)))\n",
    "location = lambda_scores.index(max(lambda_scores))\n",
    "print(\"The best lambda to use it \" + str(lambdas[location]))\n",
    "lambda_star = lambdas[location]\n",
    "\n",
    "y_train = trainingset[\"CLASS\"]\n",
    "x_train = trainingset[\"CONTENT\"]\n",
    "\n",
    "y_test = testingset[\"CLASS\"]\n",
    "x_test = testingset[\"CONTENT\"]\n",
    "\n",
    "x_train_list = x_train.tolist()\n",
    "v = TfidfVectorizer(input = x_train_list)\n",
    "\n",
    "train_features_set = v.fit_transform(x_train.values)\n",
    "test_features_set = v.transform(x_test.values)\n",
    "\n",
    "LR = LogisticRegression(C = 1/lambda_star, penalty = \"l1\", solver = \"liblinear\", max_iter=4000).fit(train_features_set, y_train)\n",
    "\n",
    "x_train_pred = LR.predict(train_features_set)\n",
    "x_test_pred = LR.predict(test_features_set)\n",
    "\n",
    "#confusion matrix\n",
    "train_confusion_matrix = confusion_matrix(y_train, x_train_pred)\n",
    "test_confusion_matrix = confusion_matrix(y_test, x_test_pred)\n",
    "print(\"Test set confusion matrix\")\n",
    "print(test_confusion_matrix)\n",
    "\n",
    "#Precision, Recall, F1 Score\n",
    "precision, recall, fscore, _ = precision_recall_fscore_support(y_test, x_test_pred)\n",
    "accuracy = accuracy_score(y_test, x_test_pred)\n",
    "\n",
    "print(\"Testing Data Accuracy: \" + str(accuracy))\n",
    "print(\"Testing Data Precision: \" + str(precision))\n",
    "print(\"Testing Data Recall: \" + str(recall))\n",
    "print(\"Testing Data F1-score: \" + str(fscore))\n",
    "\n",
    "#ROC\n",
    "probs = LR.predict_proba(test_features_set)\n",
    "test_probs = probs[::,1]\n",
    "pr, tpr, threshold = roc_curve(y_test, test_probs, pos_label=1)\n",
    "plt.plot(pr, tpr)\n",
    "plt.title(\"ROC - Testing Data\")\n",
    "plt.xlabel(\"False Positive Rate\")\n",
    "plt.ylabel(\"True Positive Rate\")\n",
    "plt.show()\n",
    "\n",
    "#AUC\n",
    "auc = roc_auc_score(y_test, test_probs)\n",
    "print(\"Testing Data AUC: \" + str(auc))"
   ]
  },
  {
   "cell_type": "code",
   "execution_count": 260,
   "id": "c0276dad",
   "metadata": {},
   "outputs": [
    {
     "name": "stdout",
     "output_type": "stream",
     "text": [
      "Test set confusion matrix\n",
      "[[38  2]\n",
      " [ 7 40]]\n",
      "Testing Data Accuracy: 0.896551724137931\n",
      "Testing Data Precision: [0.84444444 0.95238095]\n",
      "Testing Data Recall: [0.95       0.85106383]\n",
      "Testing Data F1-score: [0.89411765 0.8988764 ]\n"
     ]
    },
    {
     "data": {
      "image/png": "[encoded data removed]",
      "text/plain": [
       "<Figure size 432x288 with 1 Axes>"
      ]
     },
     "metadata": {
      "needs_background": "light"
     },
     "output_type": "display_data"
    },
    {
     "name": "stdout",
     "output_type": "stream",
     "text": [
      "Testing Data AUC: 0.900531914893617\n"
     ]
    }
   ],
   "source": [
    "#NB-Gaussian\n",
    "y_train = trainingset[\"CLASS\"]\n",
    "x_train = trainingset[\"CONTENT\"]\n",
    "\n",
    "y_test = testingset[\"CLASS\"]\n",
    "x_test = testingset[\"CONTENT\"]\n",
    "\n",
    "x_train_list = x_train.tolist()\n",
    "v = TfidfVectorizer(input = x_train_list)\n",
    "\n",
    "train_features_set = v.fit_transform(x_train.values).toarray()\n",
    "test_features_set = v.transform(x_test.values).toarray()\n",
    "\n",
    "GNB = GaussianNB().fit(train_features_set, y_train)\n",
    "\n",
    "x_train_pred = GNB.predict(train_features_set)\n",
    "x_test_pred = GNB.predict(test_features_set)\n",
    "\n",
    "#confusion matrix\n",
    "train_confusion_matrix = confusion_matrix(y_train, x_train_pred)\n",
    "test_confusion_matrix = confusion_matrix(y_test, x_test_pred)\n",
    "print(\"Test set confusion matrix\")\n",
    "print(test_confusion_matrix)\n",
    "\n",
    "#Precision, Recall, F1 Score\n",
    "precision, recall, fscore, _ = precision_recall_fscore_support(y_test, x_test_pred)\n",
    "accuracy = accuracy_score(y_test, x_test_pred)\n",
    "\n",
    "print(\"Testing Data Accuracy: \" + str(accuracy))\n",
    "print(\"Testing Data Precision: \" + str(precision))\n",
    "print(\"Testing Data Recall: \" + str(recall))\n",
    "print(\"Testing Data F1-score: \" + str(fscore))\n",
    "\n",
    "#ROC\n",
    "probs = GNB.predict_proba(test_features_set)\n",
    "test_probs = probs[::,1]\n",
    "pr, tpr, threshold = roc_curve(y_test, test_probs, pos_label=1)\n",
    "plt.plot(pr, tpr)\n",
    "plt.title(\"ROC - Testing Data\")\n",
    "plt.xlabel(\"False Positive Rate\")\n",
    "plt.ylabel(\"True Positive Rate\")\n",
    "plt.show()\n",
    "\n",
    "#AUC\n",
    "auc = roc_auc_score(y_test, test_probs)\n",
    "print(\"Testing Data AUC: \" + str(auc))"
   ]
  },
  {
   "cell_type": "code",
   "execution_count": 261,
   "id": "9c6b13cc",
   "metadata": {},
   "outputs": [
    {
     "name": "stdout",
     "output_type": "stream",
     "text": [
      "Test set confusion matrix\n",
      "[[32  8]\n",
      " [ 3 44]]\n",
      "Testing Data Accuracy: 0.8735632183908046\n",
      "Testing Data Precision: [0.91428571 0.84615385]\n",
      "Testing Data Recall: [0.8        0.93617021]\n",
      "Testing Data F1-score: [0.85333333 0.88888889]\n"
     ]
    },
    {
     "data": {
      "image/png": "[encoded data removed]",
      "text/plain": [
       "<Figure size 432x288 with 1 Axes>"
      ]
     },
     "metadata": {
      "needs_background": "light"
     },
     "output_type": "display_data"
    },
    {
     "name": "stdout",
     "output_type": "stream",
     "text": [
      "Testing Data AUC: 0.9585106382978724\n"
     ]
    }
   ],
   "source": [
    "#NB-Multinomial\n",
    "y_train = trainingset[\"CLASS\"]\n",
    "x_train = trainingset[\"CONTENT\"]\n",
    "\n",
    "y_test = testingset[\"CLASS\"]\n",
    "x_test = testingset[\"CONTENT\"]\n",
    "\n",
    "x_train_list = x_train.tolist()\n",
    "v = TfidfVectorizer(input = x_train_list)\n",
    "\n",
    "train_features_set = v.fit_transform(x_train.values).toarray()\n",
    "test_features_set = v.transform(x_test.values).toarray()\n",
    "\n",
    "MNB = MultinomialNB(fit_prior = True).fit(train_features_set, y_train)\n",
    "\n",
    "x_train_pred = MNB.predict(train_features_set)\n",
    "x_test_pred = MNB.predict(test_features_set)\n",
    "\n",
    "#confusion matrix\n",
    "train_confusion_matrix = confusion_matrix(y_train, x_train_pred)\n",
    "test_confusion_matrix = confusion_matrix(y_test, x_test_pred)\n",
    "print(\"Test set confusion matrix\")\n",
    "print(test_confusion_matrix)\n",
    "\n",
    "#Precision, Recall, F1 Score\n",
    "precision, recall, fscore, _ = precision_recall_fscore_support(y_test, x_test_pred)\n",
    "accuracy = accuracy_score(y_test, x_test_pred)\n",
    "\n",
    "print(\"Testing Data Accuracy: \" + str(accuracy))\n",
    "print(\"Testing Data Precision: \" + str(precision))\n",
    "print(\"Testing Data Recall: \" + str(recall))\n",
    "print(\"Testing Data F1-score: \" + str(fscore))\n",
    "\n",
    "#ROC\n",
    "probs = MNB.predict_proba(test_features_set)\n",
    "test_probs = probs[::,1]\n",
    "pr, tpr, threshold = roc_curve(y_test, test_probs, pos_label=1)\n",
    "plt.plot(pr, tpr)\n",
    "plt.title(\"ROC - Testing Data\")\n",
    "plt.xlabel(\"False Positive Rate\")\n",
    "plt.ylabel(\"True Positive Rate\")\n",
    "plt.show()\n",
    "\n",
    "#AUC\n",
    "auc = roc_auc_score(y_test, test_probs)\n",
    "print(\"Testing Data AUC: \" + str(auc))"
   ]
  },
  {
   "cell_type": "markdown",
   "id": "d5c43e41",
   "metadata": {},
   "source": [
    "# Katy Perry Data set"
   ]
  },
  {
   "cell_type": "code",
   "execution_count": 262,
   "id": "3ab05200",
   "metadata": {},
   "outputs": [],
   "source": [
    "df = pd.read_csv(\"Youtube02-KatyPerry.csv\")\n",
    "Ham = df[df[\"CLASS\"] == 0]\n",
    "H = len(Ham.index)\n",
    "Spam = df[df[\"CLASS\"] == 1]\n",
    "S = len(Spam.index)\n",
    "\n",
    "testingset = pd.DataFrame()\n",
    "trainingset = pd.DataFrame()\n",
    "for loc in range(len(Ham)):\n",
    "    if(loc < 0.8*H):\n",
    "        trainingset = trainingset.append(Ham.iloc[loc])\n",
    "    else:\n",
    "        testingset = testingset.append(Ham.iloc[loc])        \n",
    "        \n",
    "for loc in range(len(Spam)):\n",
    "    if(loc < 0.8*S):\n",
    "        trainingset = trainingset.append(Spam.iloc[loc])\n",
    "    else:\n",
    "        testingset = testingset.append(Spam.iloc[loc])\n",
    "        \n",
    "corpus = df[\"CONTENT\"]\n",
    "cv = CountVectorizer(binary = True)\n",
    "cv.fit_transform(corpus)\n",
    "\n",
    "corpus_set = cv.transform(corpus)\n",
    "\n",
    "train_features_set = cv.transform(trainingset[\"CONTENT\"].values)\n",
    "test_features_set = cv.transform(testingset[\"CONTENT\"].values)\n",
    "\n",
    "tf_transformer = TfidfTransformer(use_idf=True).fit(train_features_set)\n",
    "X_train_tfidf = tf_transformer.transform(train_features_set)"
   ]
  },
  {
   "cell_type": "code",
   "execution_count": 263,
   "id": "e6fc9e5d",
   "metadata": {},
   "outputs": [
    {
     "name": "stdout",
     "output_type": "stream",
     "text": [
      "The highest score is 0.9535714285714285\n",
      "The best lambda to use it 1e-05\n",
      "Test set confusion matrix\n",
      "[[33  2]\n",
      " [ 3 32]]\n",
      "Testing Data Accuracy: 0.9285714285714286\n",
      "Testing Data Precision: [0.91666667 0.94117647]\n",
      "Testing Data Recall: [0.94285714 0.91428571]\n",
      "Testing Data F1-score: [0.92957746 0.92753623]\n"
     ]
    },
    {
     "data": {
      "image/png": "[encoded data removed]",
      "text/plain": [
       "<Figure size 432x288 with 1 Axes>"
      ]
     },
     "metadata": {
      "needs_background": "light"
     },
     "output_type": "display_data"
    },
    {
     "name": "stdout",
     "output_type": "stream",
     "text": [
      "Testing Data AUC: 0.9673469387755101\n"
     ]
    }
   ],
   "source": [
    "#L2 Penalized LR\n",
    "y_train = trainingset[\"CLASS\"]\n",
    "x_train = train_features_set\n",
    "\n",
    "y_test = testingset[\"CLASS\"]\n",
    "x_test = test_features_set\n",
    "\n",
    "log10lambda = [-5, -4, -3, -2, -1, 0, 1, 2, 3, 4, 5]\n",
    "lambdas = []\n",
    "lambda_scores = []\n",
    "\n",
    "for i in log10lambda:\n",
    "    currlam = pow(10,i)\n",
    "    KF = KFold(n_splits = 5, random_state = 42, shuffle = True)\n",
    "    LR = LogisticRegression(C = 1/currlam, penalty = \"l2\", max_iter=4000)\n",
    "    scores = cross_val_score(LR, x_train, y_train, scoring='accuracy', cv=KF)\n",
    "    lambdas.append(currlam)\n",
    "    lambda_scores.append(mean(scores))\n",
    "    \n",
    "print(\"The highest score is \" + str(max(lambda_scores)))\n",
    "location = lambda_scores.index(max(lambda_scores))\n",
    "print(\"The best lambda to use it \" + str(lambdas[location]))\n",
    "lambda_star = lambdas[location]\n",
    "\n",
    "y_train = trainingset[\"CLASS\"]\n",
    "x_train = trainingset[\"CONTENT\"]\n",
    "\n",
    "y_test = testingset[\"CLASS\"]\n",
    "x_test = testingset[\"CONTENT\"]\n",
    "\n",
    "x_train_list = x_train.tolist()\n",
    "v = TfidfVectorizer(input = x_train_list)\n",
    "\n",
    "train_features_set = v.fit_transform(x_train.values)\n",
    "test_features_set = v.transform(x_test.values)\n",
    "\n",
    "LR = LogisticRegression(C = 1/lambda_star, penalty = \"l2\", solver = \"liblinear\", max_iter=4000).fit(train_features_set, y_train)\n",
    "\n",
    "x_train_pred = LR.predict(train_features_set)\n",
    "x_test_pred = LR.predict(test_features_set)\n",
    "\n",
    "#confusion matrix\n",
    "train_confusion_matrix = confusion_matrix(y_train, x_train_pred)\n",
    "test_confusion_matrix = confusion_matrix(y_test, x_test_pred)\n",
    "print(\"Test set confusion matrix\")\n",
    "print(test_confusion_matrix)\n",
    "\n",
    "#Precision, Recall, F1 Score\n",
    "precision, recall, fscore, _ = precision_recall_fscore_support(y_test, x_test_pred)\n",
    "accuracy = accuracy_score(y_test, x_test_pred)\n",
    "\n",
    "print(\"Testing Data Accuracy: \" + str(accuracy))\n",
    "print(\"Testing Data Precision: \" + str(precision))\n",
    "print(\"Testing Data Recall: \" + str(recall))\n",
    "print(\"Testing Data F1-score: \" + str(fscore))\n",
    "\n",
    "#ROC\n",
    "probs = LR.predict_proba(test_features_set)\n",
    "test_probs = probs[::,1]\n",
    "pr, tpr, threshold = roc_curve(y_test, test_probs, pos_label=1)\n",
    "plt.plot(pr, tpr)\n",
    "plt.title(\"ROC - Testing Data\")\n",
    "plt.xlabel(\"False Positive Rate\")\n",
    "plt.ylabel(\"True Positive Rate\")\n",
    "plt.show()\n",
    "\n",
    "#AUC\n",
    "auc = roc_auc_score(y_test, test_probs)\n",
    "print(\"Testing Data AUC: \" + str(auc))"
   ]
  },
  {
   "cell_type": "code",
   "execution_count": 264,
   "id": "86bbd065",
   "metadata": {},
   "outputs": [
    {
     "name": "stdout",
     "output_type": "stream",
     "text": [
      "The highest score is 0.9535714285714285\n",
      "The best lambda to use it 0.0001\n",
      "Test set confusion matrix\n",
      "[[34  1]\n",
      " [ 1 34]]\n",
      "Testing Data Accuracy: 0.9714285714285714\n",
      "Testing Data Precision: [0.97142857 0.97142857]\n",
      "Testing Data Recall: [0.97142857 0.97142857]\n",
      "Testing Data F1-score: [0.97142857 0.97142857]\n"
     ]
    },
    {
     "data": {
      "image/png": "[encoded data removed]",
      "text/plain": [
       "<Figure size 432x288 with 1 Axes>"
      ]
     },
     "metadata": {
      "needs_background": "light"
     },
     "output_type": "display_data"
    },
    {
     "name": "stdout",
     "output_type": "stream",
     "text": [
      "Testing Data AUC: 0.9722448979591837\n"
     ]
    }
   ],
   "source": [
    "#L1 Penalized\n",
    "y_train = trainingset[\"CLASS\"]\n",
    "x_train = train_features_set\n",
    "\n",
    "y_test = testingset[\"CLASS\"]\n",
    "x_test = test_features_set\n",
    "\n",
    "log10lambda = [-5, -4, -3, -2, -1, 0, 1, 2, 3, 4, 5]\n",
    "lambdas = []\n",
    "lambda_scores = []\n",
    "\n",
    "for i in log10lambda:\n",
    "    currlam = pow(10,i)\n",
    "    KF = KFold(n_splits = 5, random_state = 42, shuffle = True)\n",
    "    LR = LogisticRegression(C = 1/currlam, penalty = \"l1\", solver = \"liblinear\", max_iter=4000)\n",
    "    scores = cross_val_score(LR, x_train, y_train, scoring='accuracy', cv=KF)\n",
    "    lambdas.append(currlam)\n",
    "    lambda_scores.append(mean(scores))\n",
    "    \n",
    "print(\"The highest score is \" + str(max(lambda_scores)))\n",
    "location = lambda_scores.index(max(lambda_scores))\n",
    "print(\"The best lambda to use it \" + str(lambdas[location]))\n",
    "lambda_star = lambdas[location]\n",
    "\n",
    "y_train = trainingset[\"CLASS\"]\n",
    "x_train = trainingset[\"CONTENT\"]\n",
    "\n",
    "y_test = testingset[\"CLASS\"]\n",
    "x_test = testingset[\"CONTENT\"]\n",
    "\n",
    "x_train_list = x_train.tolist()\n",
    "v = TfidfVectorizer(input = x_train_list)\n",
    "\n",
    "train_features_set = v.fit_transform(x_train.values)\n",
    "test_features_set = v.transform(x_test.values)\n",
    "\n",
    "LR = LogisticRegression(C = 1/lambda_star, penalty = \"l1\", solver = \"liblinear\", max_iter=4000).fit(train_features_set, y_train)\n",
    "\n",
    "x_train_pred = LR.predict(train_features_set)\n",
    "x_test_pred = LR.predict(test_features_set)\n",
    "\n",
    "#confusion matrix\n",
    "train_confusion_matrix = confusion_matrix(y_train, x_train_pred)\n",
    "test_confusion_matrix = confusion_matrix(y_test, x_test_pred)\n",
    "print(\"Test set confusion matrix\")\n",
    "print(test_confusion_matrix)\n",
    "\n",
    "#Precision, Recall, F1 Score\n",
    "precision, recall, fscore, _ = precision_recall_fscore_support(y_test, x_test_pred)\n",
    "accuracy = accuracy_score(y_test, x_test_pred)\n",
    "\n",
    "print(\"Testing Data Accuracy: \" + str(accuracy))\n",
    "print(\"Testing Data Precision: \" + str(precision))\n",
    "print(\"Testing Data Recall: \" + str(recall))\n",
    "print(\"Testing Data F1-score: \" + str(fscore))\n",
    "\n",
    "#ROC\n",
    "probs = LR.predict_proba(test_features_set)\n",
    "test_probs = probs[::,1]\n",
    "pr, tpr, threshold = roc_curve(y_test, test_probs, pos_label=1)\n",
    "plt.plot(pr, tpr)\n",
    "plt.title(\"ROC - Testing Data\")\n",
    "plt.xlabel(\"False Positive Rate\")\n",
    "plt.ylabel(\"True Positive Rate\")\n",
    "plt.show()\n",
    "\n",
    "#AUC\n",
    "auc = roc_auc_score(y_test, test_probs)\n",
    "print(\"Testing Data AUC: \" + str(auc))"
   ]
  },
  {
   "cell_type": "code",
   "execution_count": 265,
   "id": "33d231f5",
   "metadata": {},
   "outputs": [
    {
     "name": "stdout",
     "output_type": "stream",
     "text": [
      "Test set confusion matrix\n",
      "[[28  7]\n",
      " [ 3 32]]\n",
      "Testing Data Accuracy: 0.8571428571428571\n",
      "Testing Data Precision: [0.90322581 0.82051282]\n",
      "Testing Data Recall: [0.8        0.91428571]\n",
      "Testing Data F1-score: [0.84848485 0.86486486]\n"
     ]
    },
    {
     "data": {
      "image/png": "[encoded data removed]",
      "text/plain": [
       "<Figure size 432x288 with 1 Axes>"
      ]
     },
     "metadata": {
      "needs_background": "light"
     },
     "output_type": "display_data"
    },
    {
     "name": "stdout",
     "output_type": "stream",
     "text": [
      "Testing Data AUC: 0.8571428571428571\n"
     ]
    }
   ],
   "source": [
    "#NB-Gaussian\n",
    "y_train = trainingset[\"CLASS\"]\n",
    "x_train = trainingset[\"CONTENT\"]\n",
    "\n",
    "y_test = testingset[\"CLASS\"]\n",
    "x_test = testingset[\"CONTENT\"]\n",
    "\n",
    "x_train_list = x_train.tolist()\n",
    "v = TfidfVectorizer(input = x_train_list)\n",
    "\n",
    "train_features_set = v.fit_transform(x_train.values).toarray()\n",
    "test_features_set = v.transform(x_test.values).toarray()\n",
    "\n",
    "GNB = GaussianNB().fit(train_features_set, y_train)\n",
    "\n",
    "x_train_pred = GNB.predict(train_features_set)\n",
    "x_test_pred = GNB.predict(test_features_set)\n",
    "\n",
    "#confusion matrix\n",
    "train_confusion_matrix = confusion_matrix(y_train, x_train_pred)\n",
    "test_confusion_matrix = confusion_matrix(y_test, x_test_pred)\n",
    "print(\"Test set confusion matrix\")\n",
    "print(test_confusion_matrix)\n",
    "\n",
    "#Precision, Recall, F1 Score\n",
    "precision, recall, fscore, _ = precision_recall_fscore_support(y_test, x_test_pred)\n",
    "accuracy = accuracy_score(y_test, x_test_pred)\n",
    "\n",
    "print(\"Testing Data Accuracy: \" + str(accuracy))\n",
    "print(\"Testing Data Precision: \" + str(precision))\n",
    "print(\"Testing Data Recall: \" + str(recall))\n",
    "print(\"Testing Data F1-score: \" + str(fscore))\n",
    "\n",
    "#ROC\n",
    "probs = GNB.predict_proba(test_features_set)\n",
    "test_probs = probs[::,1]\n",
    "pr, tpr, threshold = roc_curve(y_test, test_probs, pos_label=1)\n",
    "plt.plot(pr, tpr)\n",
    "plt.title(\"ROC - Testing Data\")\n",
    "plt.xlabel(\"False Positive Rate\")\n",
    "plt.ylabel(\"True Positive Rate\")\n",
    "plt.show()\n",
    "\n",
    "#AUC\n",
    "auc = roc_auc_score(y_test, test_probs)\n",
    "print(\"Testing Data AUC: \" + str(auc))"
   ]
  },
  {
   "cell_type": "code",
   "execution_count": 266,
   "id": "1068c4bd",
   "metadata": {},
   "outputs": [
    {
     "name": "stdout",
     "output_type": "stream",
     "text": [
      "Test set confusion matrix\n",
      "[[33  2]\n",
      " [ 4 31]]\n",
      "Testing Data Accuracy: 0.9142857142857143\n",
      "Testing Data Precision: [0.89189189 0.93939394]\n",
      "Testing Data Recall: [0.94285714 0.88571429]\n",
      "Testing Data F1-score: [0.91666667 0.91176471]\n"
     ]
    },
    {
     "data": {
      "image/png": "[encoded data removed]",
      "text/plain": [
       "<Figure size 432x288 with 1 Axes>"
      ]
     },
     "metadata": {
      "needs_background": "light"
     },
     "output_type": "display_data"
    },
    {
     "name": "stdout",
     "output_type": "stream",
     "text": [
      "Testing Data AUC: 0.9616326530612244\n"
     ]
    }
   ],
   "source": [
    "#NB-Multinomial\n",
    "y_train = trainingset[\"CLASS\"]\n",
    "x_train = trainingset[\"CONTENT\"]\n",
    "\n",
    "y_test = testingset[\"CLASS\"]\n",
    "x_test = testingset[\"CONTENT\"]\n",
    "\n",
    "x_train_list = x_train.tolist()\n",
    "v = TfidfVectorizer(input = x_train_list)\n",
    "\n",
    "train_features_set = v.fit_transform(x_train.values).toarray()\n",
    "test_features_set = v.transform(x_test.values).toarray()\n",
    "\n",
    "MNB = MultinomialNB(fit_prior = True).fit(train_features_set, y_train)\n",
    "\n",
    "x_train_pred = MNB.predict(train_features_set)\n",
    "x_test_pred = MNB.predict(test_features_set)\n",
    "\n",
    "#confusion matrix\n",
    "train_confusion_matrix = confusion_matrix(y_train, x_train_pred)\n",
    "test_confusion_matrix = confusion_matrix(y_test, x_test_pred)\n",
    "print(\"Test set confusion matrix\")\n",
    "print(test_confusion_matrix)\n",
    "\n",
    "#Precision, Recall, F1 Score\n",
    "precision, recall, fscore, _ = precision_recall_fscore_support(y_test, x_test_pred)\n",
    "accuracy = accuracy_score(y_test, x_test_pred)\n",
    "\n",
    "print(\"Testing Data Accuracy: \" + str(accuracy))\n",
    "print(\"Testing Data Precision: \" + str(precision))\n",
    "print(\"Testing Data Recall: \" + str(recall))\n",
    "print(\"Testing Data F1-score: \" + str(fscore))\n",
    "\n",
    "#ROC\n",
    "probs = MNB.predict_proba(test_features_set)\n",
    "test_probs = probs[::,1]\n",
    "pr, tpr, threshold = roc_curve(y_test, test_probs, pos_label=1)\n",
    "plt.plot(pr, tpr)\n",
    "plt.title(\"ROC - Testing Data\")\n",
    "plt.xlabel(\"False Positive Rate\")\n",
    "plt.ylabel(\"True Positive Rate\")\n",
    "plt.show()\n",
    "\n",
    "#AUC\n",
    "auc = roc_auc_score(y_test, test_probs)\n",
    "print(\"Testing Data AUC: \" + str(auc))"
   ]
  },
  {
   "cell_type": "markdown",
   "id": "4c40a552",
   "metadata": {},
   "source": [
    "# PSY Dataset"
   ]
  },
  {
   "cell_type": "code",
   "execution_count": 267,
   "id": "703ead2f",
   "metadata": {},
   "outputs": [],
   "source": [
    "df = pd.read_csv(\"Youtube01-Psy.csv\")\n",
    "Ham = df[df[\"CLASS\"] == 0]\n",
    "H = len(Ham.index)\n",
    "Spam = df[df[\"CLASS\"] == 1]\n",
    "S = len(Spam.index)\n",
    "\n",
    "testingset = pd.DataFrame()\n",
    "trainingset = pd.DataFrame()\n",
    "for loc in range(len(Ham)):\n",
    "    if(loc < 0.8*H):\n",
    "        trainingset = trainingset.append(Ham.iloc[loc])\n",
    "    else:\n",
    "        testingset = testingset.append(Ham.iloc[loc])        \n",
    "        \n",
    "for loc in range(len(Spam)):\n",
    "    if(loc < 0.8*S):\n",
    "        trainingset = trainingset.append(Spam.iloc[loc])\n",
    "    else:\n",
    "        testingset = testingset.append(Spam.iloc[loc])\n",
    "        \n",
    "corpus = df[\"CONTENT\"]\n",
    "cv = CountVectorizer(binary = True)\n",
    "cv.fit_transform(corpus)\n",
    "\n",
    "corpus_set = cv.transform(corpus)\n",
    "\n",
    "train_features_set = cv.transform(trainingset[\"CONTENT\"].values)\n",
    "test_features_set = cv.transform(testingset[\"CONTENT\"].values)\n",
    "\n",
    "tf_transformer = TfidfTransformer(use_idf=True).fit(train_features_set)\n",
    "X_train_tfidf = tf_transformer.transform(train_features_set)"
   ]
  },
  {
   "cell_type": "code",
   "execution_count": 268,
   "id": "d6dae66f",
   "metadata": {},
   "outputs": [
    {
     "name": "stdout",
     "output_type": "stream",
     "text": [
      "The highest score is 0.9642857142857142\n",
      "The best lambda to use it 10\n",
      "Test set confusion matrix\n",
      "[[34  1]\n",
      " [ 1 34]]\n",
      "Testing Data Accuracy: 0.9714285714285714\n",
      "Testing Data Precision: [0.97142857 0.97142857]\n",
      "Testing Data Recall: [0.97142857 0.97142857]\n",
      "Testing Data F1-score: [0.97142857 0.97142857]\n"
     ]
    },
    {
     "data": {
      "image/png": "[encoded data removed]",
      "text/plain": [
       "<Figure size 432x288 with 1 Axes>"
      ]
     },
     "metadata": {
      "needs_background": "light"
     },
     "output_type": "display_data"
    },
    {
     "name": "stdout",
     "output_type": "stream",
     "text": [
      "Testing Data AUC: 0.9975510204081632\n"
     ]
    }
   ],
   "source": [
    "#L2 Penalized LR\n",
    "y_train = trainingset[\"CLASS\"]\n",
    "x_train = train_features_set\n",
    "\n",
    "y_test = testingset[\"CLASS\"]\n",
    "x_test = test_features_set\n",
    "\n",
    "log10lambda = [-5, -4, -3, -2, -1, 0, 1, 2, 3, 4, 5]\n",
    "lambdas = []\n",
    "lambda_scores = []\n",
    "\n",
    "for i in log10lambda:\n",
    "    currlam = pow(10,i)\n",
    "    KF = KFold(n_splits = 5, random_state = 42, shuffle = True)\n",
    "    LR = LogisticRegression(C = 1/currlam, penalty = \"l2\", max_iter=4000)\n",
    "    scores = cross_val_score(LR, x_train, y_train, scoring='accuracy', cv=KF)\n",
    "    lambdas.append(currlam)\n",
    "    lambda_scores.append(mean(scores))\n",
    "    \n",
    "print(\"The highest score is \" + str(max(lambda_scores)))\n",
    "location = lambda_scores.index(max(lambda_scores))\n",
    "print(\"The best lambda to use it \" + str(lambdas[location]))\n",
    "lambda_star = lambdas[location]\n",
    "\n",
    "y_train = trainingset[\"CLASS\"]\n",
    "x_train = trainingset[\"CONTENT\"]\n",
    "\n",
    "y_test = testingset[\"CLASS\"]\n",
    "x_test = testingset[\"CONTENT\"]\n",
    "\n",
    "x_train_list = x_train.tolist()\n",
    "v = TfidfVectorizer(input = x_train_list)\n",
    "\n",
    "train_features_set = v.fit_transform(x_train.values)\n",
    "test_features_set = v.transform(x_test.values)\n",
    "\n",
    "LR = LogisticRegression(C = 1/lambda_star, penalty = \"l2\", solver = \"liblinear\", max_iter=4000).fit(train_features_set, y_train)\n",
    "\n",
    "x_train_pred = LR.predict(train_features_set)\n",
    "x_test_pred = LR.predict(test_features_set)\n",
    "\n",
    "#confusion matrix\n",
    "train_confusion_matrix = confusion_matrix(y_train, x_train_pred)\n",
    "test_confusion_matrix = confusion_matrix(y_test, x_test_pred)\n",
    "print(\"Test set confusion matrix\")\n",
    "print(test_confusion_matrix)\n",
    "\n",
    "#Precision, Recall, F1 Score\n",
    "precision, recall, fscore, _ = precision_recall_fscore_support(y_test, x_test_pred)\n",
    "accuracy = accuracy_score(y_test, x_test_pred)\n",
    "\n",
    "print(\"Testing Data Accuracy: \" + str(accuracy))\n",
    "print(\"Testing Data Precision: \" + str(precision))\n",
    "print(\"Testing Data Recall: \" + str(recall))\n",
    "print(\"Testing Data F1-score: \" + str(fscore))\n",
    "\n",
    "#ROC\n",
    "probs = LR.predict_proba(test_features_set)\n",
    "test_probs = probs[::,1]\n",
    "pr, tpr, threshold = roc_curve(y_test, test_probs, pos_label=1)\n",
    "plt.plot(pr, tpr)\n",
    "plt.title(\"ROC - Testing Data\")\n",
    "plt.xlabel(\"False Positive Rate\")\n",
    "plt.ylabel(\"True Positive Rate\")\n",
    "plt.show()\n",
    "\n",
    "#AUC\n",
    "auc = roc_auc_score(y_test, test_probs)\n",
    "print(\"Testing Data AUC: \" + str(auc))"
   ]
  },
  {
   "cell_type": "code",
   "execution_count": 269,
   "id": "af071016",
   "metadata": {},
   "outputs": [
    {
     "name": "stdout",
     "output_type": "stream",
     "text": [
      "The highest score is 0.9428571428571428\n",
      "The best lambda to use it 0.0001\n",
      "Test set confusion matrix\n",
      "[[34  1]\n",
      " [ 1 34]]\n",
      "Testing Data Accuracy: 0.9714285714285714\n",
      "Testing Data Precision: [0.97142857 0.97142857]\n",
      "Testing Data Recall: [0.97142857 0.97142857]\n",
      "Testing Data F1-score: [0.97142857 0.97142857]\n"
     ]
    },
    {
     "data": {
      "image/png": "[encoded data removed]",
      "text/plain": [
       "<Figure size 432x288 with 1 Axes>"
      ]
     },
     "metadata": {
      "needs_background": "light"
     },
     "output_type": "display_data"
    },
    {
     "name": "stdout",
     "output_type": "stream",
     "text": [
      "Testing Data AUC: 0.9959183673469387\n"
     ]
    }
   ],
   "source": [
    "#L1 Penalized\n",
    "y_train = trainingset[\"CLASS\"]\n",
    "x_train = train_features_set\n",
    "\n",
    "y_test = testingset[\"CLASS\"]\n",
    "x_test = test_features_set\n",
    "\n",
    "log10lambda = [-5, -4, -3, -2, -1, 0, 1, 2, 3, 4, 5]\n",
    "lambdas = []\n",
    "lambda_scores = []\n",
    "\n",
    "for i in log10lambda:\n",
    "    currlam = pow(10,i)\n",
    "    KF = KFold(n_splits = 5, random_state = 42, shuffle = True)\n",
    "    LR = LogisticRegression(C = 1/currlam, penalty = \"l1\", solver = \"liblinear\", max_iter=4000)\n",
    "    scores = cross_val_score(LR, x_train, y_train, scoring='accuracy', cv=KF)\n",
    "    lambdas.append(currlam)\n",
    "    lambda_scores.append(mean(scores))\n",
    "    \n",
    "print(\"The highest score is \" + str(max(lambda_scores)))\n",
    "location = lambda_scores.index(max(lambda_scores))\n",
    "print(\"The best lambda to use it \" + str(lambdas[location]))\n",
    "lambda_star = lambdas[location]\n",
    "\n",
    "y_train = trainingset[\"CLASS\"]\n",
    "x_train = trainingset[\"CONTENT\"]\n",
    "\n",
    "y_test = testingset[\"CLASS\"]\n",
    "x_test = testingset[\"CONTENT\"]\n",
    "\n",
    "x_train_list = x_train.tolist()\n",
    "v = TfidfVectorizer(input = x_train_list)\n",
    "\n",
    "train_features_set = v.fit_transform(x_train.values)\n",
    "test_features_set = v.transform(x_test.values)\n",
    "\n",
    "LR = LogisticRegression(C = 1/lambda_star, penalty = \"l1\", solver = \"liblinear\", max_iter=4000).fit(train_features_set, y_train)\n",
    "\n",
    "x_train_pred = LR.predict(train_features_set)\n",
    "x_test_pred = LR.predict(test_features_set)\n",
    "\n",
    "#confusion matrix\n",
    "train_confusion_matrix = confusion_matrix(y_train, x_train_pred)\n",
    "test_confusion_matrix = confusion_matrix(y_test, x_test_pred)\n",
    "print(\"Test set confusion matrix\")\n",
    "print(test_confusion_matrix)\n",
    "\n",
    "#Precision, Recall, F1 Score\n",
    "precision, recall, fscore, _ = precision_recall_fscore_support(y_test, x_test_pred)\n",
    "accuracy = accuracy_score(y_test, x_test_pred)\n",
    "\n",
    "print(\"Testing Data Accuracy: \" + str(accuracy))\n",
    "print(\"Testing Data Precision: \" + str(precision))\n",
    "print(\"Testing Data Recall: \" + str(recall))\n",
    "print(\"Testing Data F1-score: \" + str(fscore))\n",
    "\n",
    "#ROC\n",
    "probs = LR.predict_proba(test_features_set)\n",
    "test_probs = probs[::,1]\n",
    "pr, tpr, threshold = roc_curve(y_test, test_probs, pos_label=1)\n",
    "plt.plot(pr, tpr)\n",
    "plt.title(\"ROC - Testing Data\")\n",
    "plt.xlabel(\"False Positive Rate\")\n",
    "plt.ylabel(\"True Positive Rate\")\n",
    "plt.show()\n",
    "\n",
    "#AUC\n",
    "auc = roc_auc_score(y_test, test_probs)\n",
    "print(\"Testing Data AUC: \" + str(auc))"
   ]
  },
  {
   "cell_type": "code",
   "execution_count": 270,
   "id": "1d268642",
   "metadata": {},
   "outputs": [
    {
     "name": "stdout",
     "output_type": "stream",
     "text": [
      "Test set confusion matrix\n",
      "[[30  5]\n",
      " [ 4 31]]\n",
      "Testing Data Accuracy: 0.8714285714285714\n",
      "Testing Data Precision: [0.88235294 0.86111111]\n",
      "Testing Data Recall: [0.85714286 0.88571429]\n",
      "Testing Data F1-score: [0.86956522 0.87323944]\n"
     ]
    },
    {
     "data": {
      "image/png": "[encoded data removed]",
      "text/plain": [
       "<Figure size 432x288 with 1 Axes>"
      ]
     },
     "metadata": {
      "needs_background": "light"
     },
     "output_type": "display_data"
    },
    {
     "name": "stdout",
     "output_type": "stream",
     "text": [
      "Testing Data AUC: 0.8714285714285714\n"
     ]
    }
   ],
   "source": [
    "#NB-Gaussian\n",
    "y_train = trainingset[\"CLASS\"]\n",
    "x_train = trainingset[\"CONTENT\"]\n",
    "\n",
    "y_test = testingset[\"CLASS\"]\n",
    "x_test = testingset[\"CONTENT\"]\n",
    "\n",
    "x_train_list = x_train.tolist()\n",
    "v = TfidfVectorizer(input = x_train_list)\n",
    "\n",
    "train_features_set = v.fit_transform(x_train.values).toarray()\n",
    "test_features_set = v.transform(x_test.values).toarray()\n",
    "\n",
    "GNB = GaussianNB().fit(train_features_set, y_train)\n",
    "\n",
    "x_train_pred = GNB.predict(train_features_set)\n",
    "x_test_pred = GNB.predict(test_features_set)\n",
    "\n",
    "#confusion matrix\n",
    "train_confusion_matrix = confusion_matrix(y_train, x_train_pred)\n",
    "test_confusion_matrix = confusion_matrix(y_test, x_test_pred)\n",
    "print(\"Test set confusion matrix\")\n",
    "print(test_confusion_matrix)\n",
    "\n",
    "#Precision, Recall, F1 Score\n",
    "precision, recall, fscore, _ = precision_recall_fscore_support(y_test, x_test_pred)\n",
    "accuracy = accuracy_score(y_test, x_test_pred)\n",
    "\n",
    "print(\"Testing Data Accuracy: \" + str(accuracy))\n",
    "print(\"Testing Data Precision: \" + str(precision))\n",
    "print(\"Testing Data Recall: \" + str(recall))\n",
    "print(\"Testing Data F1-score: \" + str(fscore))\n",
    "\n",
    "#ROC\n",
    "probs = GNB.predict_proba(test_features_set)\n",
    "test_probs = probs[::,1]\n",
    "pr, tpr, threshold = roc_curve(y_test, test_probs, pos_label=1)\n",
    "plt.plot(pr, tpr)\n",
    "plt.title(\"ROC - Testing Data\")\n",
    "plt.xlabel(\"False Positive Rate\")\n",
    "plt.ylabel(\"True Positive Rate\")\n",
    "plt.show()\n",
    "\n",
    "#AUC\n",
    "auc = roc_auc_score(y_test, test_probs)\n",
    "print(\"Testing Data AUC: \" + str(auc))"
   ]
  },
  {
   "cell_type": "code",
   "execution_count": 271,
   "id": "90f0f409",
   "metadata": {},
   "outputs": [
    {
     "name": "stdout",
     "output_type": "stream",
     "text": [
      "Test set confusion matrix\n",
      "[[33  2]\n",
      " [ 1 34]]\n",
      "Testing Data Accuracy: 0.9571428571428572\n",
      "Testing Data Precision: [0.97058824 0.94444444]\n",
      "Testing Data Recall: [0.94285714 0.97142857]\n",
      "Testing Data F1-score: [0.95652174 0.95774648]\n"
     ]
    },
    {
     "data": {
      "image/png": "[encoded data removed]",
      "text/plain": [
       "<Figure size 432x288 with 1 Axes>"
      ]
     },
     "metadata": {
      "needs_background": "light"
     },
     "output_type": "display_data"
    },
    {
     "name": "stdout",
     "output_type": "stream",
     "text": [
      "Testing Data AUC: 0.9975510204081632\n"
     ]
    }
   ],
   "source": [
    "#NB-Multinomial\n",
    "y_train = trainingset[\"CLASS\"]\n",
    "x_train = trainingset[\"CONTENT\"]\n",
    "\n",
    "y_test = testingset[\"CLASS\"]\n",
    "x_test = testingset[\"CONTENT\"]\n",
    "\n",
    "x_train_list = x_train.tolist()\n",
    "v = TfidfVectorizer(input = x_train_list)\n",
    "\n",
    "train_features_set = v.fit_transform(x_train.values).toarray()\n",
    "test_features_set = v.transform(x_test.values).toarray()\n",
    "\n",
    "MNB = MultinomialNB(fit_prior = True).fit(train_features_set, y_train)\n",
    "\n",
    "x_train_pred = MNB.predict(train_features_set)\n",
    "x_test_pred = MNB.predict(test_features_set)\n",
    "\n",
    "#confusion matrix\n",
    "train_confusion_matrix = confusion_matrix(y_train, x_train_pred)\n",
    "test_confusion_matrix = confusion_matrix(y_test, x_test_pred)\n",
    "print(\"Test set confusion matrix\")\n",
    "print(test_confusion_matrix)\n",
    "\n",
    "#Precision, Recall, F1 Score\n",
    "precision, recall, fscore, _ = precision_recall_fscore_support(y_test, x_test_pred)\n",
    "accuracy = accuracy_score(y_test, x_test_pred)\n",
    "\n",
    "print(\"Testing Data Accuracy: \" + str(accuracy))\n",
    "print(\"Testing Data Precision: \" + str(precision))\n",
    "print(\"Testing Data Recall: \" + str(recall))\n",
    "print(\"Testing Data F1-score: \" + str(fscore))\n",
    "\n",
    "#ROC\n",
    "probs = MNB.predict_proba(test_features_set)\n",
    "test_probs = probs[::,1]\n",
    "pr, tpr, threshold = roc_curve(y_test, test_probs, pos_label=1)\n",
    "plt.plot(pr, tpr)\n",
    "plt.title(\"ROC - Testing Data\")\n",
    "plt.xlabel(\"False Positive Rate\")\n",
    "plt.ylabel(\"True Positive Rate\")\n",
    "plt.show()\n",
    "\n",
    "#AUC\n",
    "auc = roc_auc_score(y_test, test_probs)\n",
    "print(\"Testing Data AUC: \" + str(auc))"
   ]
  }
 ],
 "metadata": {
  "kernelspec": {
   "display_name": "Python 3",
   "language": "python",
   "name": "python3"
  },
  "language_info": {
   "codemirror_mode": {
    "name": "ipython",
    "version": 3
   },
   "file_extension": ".py",
   "mimetype": "text/x-python",
   "name": "python",
   "nbconvert_exporter": "python",
   "pygments_lexer": "ipython3",
   "version": "3.8.8"
  }
 },
 "nbformat": 4,
 "nbformat_minor": 5
}
